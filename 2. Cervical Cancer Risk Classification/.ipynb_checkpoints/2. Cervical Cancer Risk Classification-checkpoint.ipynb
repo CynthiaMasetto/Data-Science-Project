{
 "cells": [
  {
   "cell_type": "markdown",
   "metadata": {},
   "source": [
    "# Cervical Cancer Risk Classification – Analysis"
   ]
  },
  {
   "cell_type": "code",
   "execution_count": 359,
   "metadata": {},
   "outputs": [],
   "source": [
    "import os\n",
    "import gc\n",
    "import numpy as np # linear algebra\n",
    "import pandas as pd # data processing, CSV file I/O (e.g. pd.read_csv)\n",
    "import seaborn as sns\n",
    "import matplotlib.pyplot as plt\n",
    "%matplotlib inline\n",
    "from sklearn import metrics\n",
    "from sklearn.metrics import roc_auc_score\n",
    "from sklearn.impute import SimpleImputer\n",
    "from sklearn.metrics import accuracy_score\n",
    "from sklearn.preprocessing import MinMaxScaler\n",
    "from keras import losses\n",
    "from keras.utils import to_categorical\n",
    "from keras.layers import Input, Dense, Dropout\n",
    "from keras.models import Model, Sequential \n",
    "from keras.optimizers import Adam\n",
    "from keras.utils.np_utils import to_categorical\n",
    "from sklearn.model_selection import train_test_split\n",
    "from sklearn.ensemble import ExtraTreesClassifier\n",
    "from keras import backend as K\n",
    "from keras.callbacks import Callback\n",
    "import warnings\n",
    "warnings.filterwarnings('ignore')\n"
   ]
  },
  {
   "cell_type": "markdown",
   "metadata": {},
   "source": [
    "### Data Exploration"
   ]
  },
  {
   "cell_type": "code",
   "execution_count": 360,
   "metadata": {},
   "outputs": [],
   "source": [
    "data = pd.read_csv(\"/Users/cynthiamasetto/Documents/Data-Science-Project/2. Cervical Cancer Risk Classification/kag_risk_factors_cervical_cancer.csv\")\n"
   ]
  },
  {
   "cell_type": "code",
   "execution_count": 361,
   "metadata": {},
   "outputs": [
    {
     "data": {
      "text/html": [
       "<div>\n",
       "<style scoped>\n",
       "    .dataframe tbody tr th:only-of-type {\n",
       "        vertical-align: middle;\n",
       "    }\n",
       "\n",
       "    .dataframe tbody tr th {\n",
       "        vertical-align: top;\n",
       "    }\n",
       "\n",
       "    .dataframe thead th {\n",
       "        text-align: right;\n",
       "    }\n",
       "</style>\n",
       "<table border=\"1\" class=\"dataframe\">\n",
       "  <thead>\n",
       "    <tr style=\"text-align: right;\">\n",
       "      <th></th>\n",
       "      <th>Age</th>\n",
       "      <th>Number of sexual partners</th>\n",
       "      <th>First sexual intercourse</th>\n",
       "      <th>Num of pregnancies</th>\n",
       "      <th>Smokes</th>\n",
       "      <th>Smokes (years)</th>\n",
       "      <th>Smokes (packs/year)</th>\n",
       "      <th>Hormonal Contraceptives</th>\n",
       "      <th>Hormonal Contraceptives (years)</th>\n",
       "      <th>IUD</th>\n",
       "      <th>...</th>\n",
       "      <th>STDs: Time since first diagnosis</th>\n",
       "      <th>STDs: Time since last diagnosis</th>\n",
       "      <th>Dx:Cancer</th>\n",
       "      <th>Dx:CIN</th>\n",
       "      <th>Dx:HPV</th>\n",
       "      <th>Dx</th>\n",
       "      <th>Hinselmann</th>\n",
       "      <th>Schiller</th>\n",
       "      <th>Citology</th>\n",
       "      <th>Biopsy</th>\n",
       "    </tr>\n",
       "  </thead>\n",
       "  <tbody>\n",
       "    <tr>\n",
       "      <th>0</th>\n",
       "      <td>18</td>\n",
       "      <td>4.0</td>\n",
       "      <td>15.0</td>\n",
       "      <td>1.0</td>\n",
       "      <td>0.0</td>\n",
       "      <td>0.0</td>\n",
       "      <td>0.0</td>\n",
       "      <td>0.0</td>\n",
       "      <td>0.0</td>\n",
       "      <td>0.0</td>\n",
       "      <td>...</td>\n",
       "      <td>?</td>\n",
       "      <td>?</td>\n",
       "      <td>0</td>\n",
       "      <td>0</td>\n",
       "      <td>0</td>\n",
       "      <td>0</td>\n",
       "      <td>0</td>\n",
       "      <td>0</td>\n",
       "      <td>0</td>\n",
       "      <td>0</td>\n",
       "    </tr>\n",
       "    <tr>\n",
       "      <th>1</th>\n",
       "      <td>15</td>\n",
       "      <td>1.0</td>\n",
       "      <td>14.0</td>\n",
       "      <td>1.0</td>\n",
       "      <td>0.0</td>\n",
       "      <td>0.0</td>\n",
       "      <td>0.0</td>\n",
       "      <td>0.0</td>\n",
       "      <td>0.0</td>\n",
       "      <td>0.0</td>\n",
       "      <td>...</td>\n",
       "      <td>?</td>\n",
       "      <td>?</td>\n",
       "      <td>0</td>\n",
       "      <td>0</td>\n",
       "      <td>0</td>\n",
       "      <td>0</td>\n",
       "      <td>0</td>\n",
       "      <td>0</td>\n",
       "      <td>0</td>\n",
       "      <td>0</td>\n",
       "    </tr>\n",
       "    <tr>\n",
       "      <th>2</th>\n",
       "      <td>34</td>\n",
       "      <td>1.0</td>\n",
       "      <td>?</td>\n",
       "      <td>1.0</td>\n",
       "      <td>0.0</td>\n",
       "      <td>0.0</td>\n",
       "      <td>0.0</td>\n",
       "      <td>0.0</td>\n",
       "      <td>0.0</td>\n",
       "      <td>0.0</td>\n",
       "      <td>...</td>\n",
       "      <td>?</td>\n",
       "      <td>?</td>\n",
       "      <td>0</td>\n",
       "      <td>0</td>\n",
       "      <td>0</td>\n",
       "      <td>0</td>\n",
       "      <td>0</td>\n",
       "      <td>0</td>\n",
       "      <td>0</td>\n",
       "      <td>0</td>\n",
       "    </tr>\n",
       "    <tr>\n",
       "      <th>3</th>\n",
       "      <td>52</td>\n",
       "      <td>5.0</td>\n",
       "      <td>16.0</td>\n",
       "      <td>4.0</td>\n",
       "      <td>1.0</td>\n",
       "      <td>37.0</td>\n",
       "      <td>37.0</td>\n",
       "      <td>1.0</td>\n",
       "      <td>3.0</td>\n",
       "      <td>0.0</td>\n",
       "      <td>...</td>\n",
       "      <td>?</td>\n",
       "      <td>?</td>\n",
       "      <td>1</td>\n",
       "      <td>0</td>\n",
       "      <td>1</td>\n",
       "      <td>0</td>\n",
       "      <td>0</td>\n",
       "      <td>0</td>\n",
       "      <td>0</td>\n",
       "      <td>0</td>\n",
       "    </tr>\n",
       "    <tr>\n",
       "      <th>4</th>\n",
       "      <td>46</td>\n",
       "      <td>3.0</td>\n",
       "      <td>21.0</td>\n",
       "      <td>4.0</td>\n",
       "      <td>0.0</td>\n",
       "      <td>0.0</td>\n",
       "      <td>0.0</td>\n",
       "      <td>1.0</td>\n",
       "      <td>15.0</td>\n",
       "      <td>0.0</td>\n",
       "      <td>...</td>\n",
       "      <td>?</td>\n",
       "      <td>?</td>\n",
       "      <td>0</td>\n",
       "      <td>0</td>\n",
       "      <td>0</td>\n",
       "      <td>0</td>\n",
       "      <td>0</td>\n",
       "      <td>0</td>\n",
       "      <td>0</td>\n",
       "      <td>0</td>\n",
       "    </tr>\n",
       "  </tbody>\n",
       "</table>\n",
       "<p>5 rows × 36 columns</p>\n",
       "</div>"
      ],
      "text/plain": [
       "   Age Number of sexual partners First sexual intercourse Num of pregnancies  \\\n",
       "0   18                       4.0                     15.0                1.0   \n",
       "1   15                       1.0                     14.0                1.0   \n",
       "2   34                       1.0                        ?                1.0   \n",
       "3   52                       5.0                     16.0                4.0   \n",
       "4   46                       3.0                     21.0                4.0   \n",
       "\n",
       "  Smokes Smokes (years) Smokes (packs/year) Hormonal Contraceptives  \\\n",
       "0    0.0            0.0                 0.0                     0.0   \n",
       "1    0.0            0.0                 0.0                     0.0   \n",
       "2    0.0            0.0                 0.0                     0.0   \n",
       "3    1.0           37.0                37.0                     1.0   \n",
       "4    0.0            0.0                 0.0                     1.0   \n",
       "\n",
       "  Hormonal Contraceptives (years)  IUD  ...    \\\n",
       "0                             0.0  0.0  ...     \n",
       "1                             0.0  0.0  ...     \n",
       "2                             0.0  0.0  ...     \n",
       "3                             3.0  0.0  ...     \n",
       "4                            15.0  0.0  ...     \n",
       "\n",
       "  STDs: Time since first diagnosis STDs: Time since last diagnosis Dx:Cancer  \\\n",
       "0                                ?                               ?         0   \n",
       "1                                ?                               ?         0   \n",
       "2                                ?                               ?         0   \n",
       "3                                ?                               ?         1   \n",
       "4                                ?                               ?         0   \n",
       "\n",
       "  Dx:CIN Dx:HPV Dx Hinselmann Schiller Citology Biopsy  \n",
       "0      0      0  0          0        0        0      0  \n",
       "1      0      0  0          0        0        0      0  \n",
       "2      0      0  0          0        0        0      0  \n",
       "3      0      1  0          0        0        0      0  \n",
       "4      0      0  0          0        0        0      0  \n",
       "\n",
       "[5 rows x 36 columns]"
      ]
     },
     "execution_count": 361,
     "metadata": {},
     "output_type": "execute_result"
    }
   ],
   "source": [
    "data.head()"
   ]
  },
  {
   "cell_type": "code",
   "execution_count": 362,
   "metadata": {},
   "outputs": [
    {
     "name": "stdout",
     "output_type": "stream",
     "text": [
      "<class 'pandas.core.frame.DataFrame'>\n",
      "RangeIndex: 858 entries, 0 to 857\n",
      "Data columns (total 36 columns):\n",
      "Age                                   858 non-null int64\n",
      "Number of sexual partners             858 non-null object\n",
      "First sexual intercourse              858 non-null object\n",
      "Num of pregnancies                    858 non-null object\n",
      "Smokes                                858 non-null object\n",
      "Smokes (years)                        858 non-null object\n",
      "Smokes (packs/year)                   858 non-null object\n",
      "Hormonal Contraceptives               858 non-null object\n",
      "Hormonal Contraceptives (years)       858 non-null object\n",
      "IUD                                   858 non-null object\n",
      "IUD (years)                           858 non-null object\n",
      "STDs                                  858 non-null object\n",
      "STDs (number)                         858 non-null object\n",
      "STDs:condylomatosis                   858 non-null object\n",
      "STDs:cervical condylomatosis          858 non-null object\n",
      "STDs:vaginal condylomatosis           858 non-null object\n",
      "STDs:vulvo-perineal condylomatosis    858 non-null object\n",
      "STDs:syphilis                         858 non-null object\n",
      "STDs:pelvic inflammatory disease      858 non-null object\n",
      "STDs:genital herpes                   858 non-null object\n",
      "STDs:molluscum contagiosum            858 non-null object\n",
      "STDs:AIDS                             858 non-null object\n",
      "STDs:HIV                              858 non-null object\n",
      "STDs:Hepatitis B                      858 non-null object\n",
      "STDs:HPV                              858 non-null object\n",
      "STDs: Number of diagnosis             858 non-null int64\n",
      "STDs: Time since first diagnosis      858 non-null object\n",
      "STDs: Time since last diagnosis       858 non-null object\n",
      "Dx:Cancer                             858 non-null int64\n",
      "Dx:CIN                                858 non-null int64\n",
      "Dx:HPV                                858 non-null int64\n",
      "Dx                                    858 non-null int64\n",
      "Hinselmann                            858 non-null int64\n",
      "Schiller                              858 non-null int64\n",
      "Citology                              858 non-null int64\n",
      "Biopsy                                858 non-null int64\n",
      "dtypes: int64(10), object(26)\n",
      "memory usage: 241.4+ KB\n"
     ]
    }
   ],
   "source": [
    "data.info()"
   ]
  },
  {
   "cell_type": "code",
   "execution_count": 363,
   "metadata": {},
   "outputs": [
    {
     "data": {
      "text/plain": [
       "(858, 36)"
      ]
     },
     "execution_count": 363,
     "metadata": {},
     "output_type": "execute_result"
    }
   ],
   "source": [
    "data.shape"
   ]
  },
  {
   "cell_type": "code",
   "execution_count": 364,
   "metadata": {},
   "outputs": [
    {
     "data": {
      "text/html": [
       "<div>\n",
       "<style scoped>\n",
       "    .dataframe tbody tr th:only-of-type {\n",
       "        vertical-align: middle;\n",
       "    }\n",
       "\n",
       "    .dataframe tbody tr th {\n",
       "        vertical-align: top;\n",
       "    }\n",
       "\n",
       "    .dataframe thead th {\n",
       "        text-align: right;\n",
       "    }\n",
       "</style>\n",
       "<table border=\"1\" class=\"dataframe\">\n",
       "  <thead>\n",
       "    <tr style=\"text-align: right;\">\n",
       "      <th></th>\n",
       "      <th>Age</th>\n",
       "      <th>STDs: Number of diagnosis</th>\n",
       "      <th>Dx:Cancer</th>\n",
       "      <th>Dx:CIN</th>\n",
       "      <th>Dx:HPV</th>\n",
       "      <th>Dx</th>\n",
       "      <th>Hinselmann</th>\n",
       "      <th>Schiller</th>\n",
       "      <th>Citology</th>\n",
       "      <th>Biopsy</th>\n",
       "    </tr>\n",
       "  </thead>\n",
       "  <tbody>\n",
       "    <tr>\n",
       "      <th>count</th>\n",
       "      <td>858.000000</td>\n",
       "      <td>858.000000</td>\n",
       "      <td>858.000000</td>\n",
       "      <td>858.000000</td>\n",
       "      <td>858.000000</td>\n",
       "      <td>858.000000</td>\n",
       "      <td>858.000000</td>\n",
       "      <td>858.000000</td>\n",
       "      <td>858.000000</td>\n",
       "      <td>858.000000</td>\n",
       "    </tr>\n",
       "    <tr>\n",
       "      <th>mean</th>\n",
       "      <td>26.820513</td>\n",
       "      <td>0.087413</td>\n",
       "      <td>0.020979</td>\n",
       "      <td>0.010490</td>\n",
       "      <td>0.020979</td>\n",
       "      <td>0.027972</td>\n",
       "      <td>0.040793</td>\n",
       "      <td>0.086247</td>\n",
       "      <td>0.051282</td>\n",
       "      <td>0.064103</td>\n",
       "    </tr>\n",
       "    <tr>\n",
       "      <th>std</th>\n",
       "      <td>8.497948</td>\n",
       "      <td>0.302545</td>\n",
       "      <td>0.143398</td>\n",
       "      <td>0.101939</td>\n",
       "      <td>0.143398</td>\n",
       "      <td>0.164989</td>\n",
       "      <td>0.197925</td>\n",
       "      <td>0.280892</td>\n",
       "      <td>0.220701</td>\n",
       "      <td>0.245078</td>\n",
       "    </tr>\n",
       "    <tr>\n",
       "      <th>min</th>\n",
       "      <td>13.000000</td>\n",
       "      <td>0.000000</td>\n",
       "      <td>0.000000</td>\n",
       "      <td>0.000000</td>\n",
       "      <td>0.000000</td>\n",
       "      <td>0.000000</td>\n",
       "      <td>0.000000</td>\n",
       "      <td>0.000000</td>\n",
       "      <td>0.000000</td>\n",
       "      <td>0.000000</td>\n",
       "    </tr>\n",
       "    <tr>\n",
       "      <th>25%</th>\n",
       "      <td>20.000000</td>\n",
       "      <td>0.000000</td>\n",
       "      <td>0.000000</td>\n",
       "      <td>0.000000</td>\n",
       "      <td>0.000000</td>\n",
       "      <td>0.000000</td>\n",
       "      <td>0.000000</td>\n",
       "      <td>0.000000</td>\n",
       "      <td>0.000000</td>\n",
       "      <td>0.000000</td>\n",
       "    </tr>\n",
       "    <tr>\n",
       "      <th>50%</th>\n",
       "      <td>25.000000</td>\n",
       "      <td>0.000000</td>\n",
       "      <td>0.000000</td>\n",
       "      <td>0.000000</td>\n",
       "      <td>0.000000</td>\n",
       "      <td>0.000000</td>\n",
       "      <td>0.000000</td>\n",
       "      <td>0.000000</td>\n",
       "      <td>0.000000</td>\n",
       "      <td>0.000000</td>\n",
       "    </tr>\n",
       "    <tr>\n",
       "      <th>75%</th>\n",
       "      <td>32.000000</td>\n",
       "      <td>0.000000</td>\n",
       "      <td>0.000000</td>\n",
       "      <td>0.000000</td>\n",
       "      <td>0.000000</td>\n",
       "      <td>0.000000</td>\n",
       "      <td>0.000000</td>\n",
       "      <td>0.000000</td>\n",
       "      <td>0.000000</td>\n",
       "      <td>0.000000</td>\n",
       "    </tr>\n",
       "    <tr>\n",
       "      <th>max</th>\n",
       "      <td>84.000000</td>\n",
       "      <td>3.000000</td>\n",
       "      <td>1.000000</td>\n",
       "      <td>1.000000</td>\n",
       "      <td>1.000000</td>\n",
       "      <td>1.000000</td>\n",
       "      <td>1.000000</td>\n",
       "      <td>1.000000</td>\n",
       "      <td>1.000000</td>\n",
       "      <td>1.000000</td>\n",
       "    </tr>\n",
       "  </tbody>\n",
       "</table>\n",
       "</div>"
      ],
      "text/plain": [
       "              Age  STDs: Number of diagnosis   Dx:Cancer      Dx:CIN  \\\n",
       "count  858.000000                 858.000000  858.000000  858.000000   \n",
       "mean    26.820513                   0.087413    0.020979    0.010490   \n",
       "std      8.497948                   0.302545    0.143398    0.101939   \n",
       "min     13.000000                   0.000000    0.000000    0.000000   \n",
       "25%     20.000000                   0.000000    0.000000    0.000000   \n",
       "50%     25.000000                   0.000000    0.000000    0.000000   \n",
       "75%     32.000000                   0.000000    0.000000    0.000000   \n",
       "max     84.000000                   3.000000    1.000000    1.000000   \n",
       "\n",
       "           Dx:HPV          Dx  Hinselmann    Schiller    Citology      Biopsy  \n",
       "count  858.000000  858.000000  858.000000  858.000000  858.000000  858.000000  \n",
       "mean     0.020979    0.027972    0.040793    0.086247    0.051282    0.064103  \n",
       "std      0.143398    0.164989    0.197925    0.280892    0.220701    0.245078  \n",
       "min      0.000000    0.000000    0.000000    0.000000    0.000000    0.000000  \n",
       "25%      0.000000    0.000000    0.000000    0.000000    0.000000    0.000000  \n",
       "50%      0.000000    0.000000    0.000000    0.000000    0.000000    0.000000  \n",
       "75%      0.000000    0.000000    0.000000    0.000000    0.000000    0.000000  \n",
       "max      1.000000    1.000000    1.000000    1.000000    1.000000    1.000000  "
      ]
     },
     "execution_count": 364,
     "metadata": {},
     "output_type": "execute_result"
    }
   ],
   "source": [
    "data.describe()"
   ]
  },
  {
   "cell_type": "code",
   "execution_count": 365,
   "metadata": {},
   "outputs": [
    {
     "data": {
      "text/plain": [
       "Age                                   False\n",
       "Number of sexual partners             False\n",
       "First sexual intercourse              False\n",
       "Num of pregnancies                    False\n",
       "Smokes                                False\n",
       "Smokes (years)                        False\n",
       "Smokes (packs/year)                   False\n",
       "Hormonal Contraceptives               False\n",
       "Hormonal Contraceptives (years)       False\n",
       "IUD                                   False\n",
       "IUD (years)                           False\n",
       "STDs                                  False\n",
       "STDs (number)                         False\n",
       "STDs:condylomatosis                   False\n",
       "STDs:cervical condylomatosis          False\n",
       "STDs:vaginal condylomatosis           False\n",
       "STDs:vulvo-perineal condylomatosis    False\n",
       "STDs:syphilis                         False\n",
       "STDs:pelvic inflammatory disease      False\n",
       "STDs:genital herpes                   False\n",
       "STDs:molluscum contagiosum            False\n",
       "STDs:AIDS                             False\n",
       "STDs:HIV                              False\n",
       "STDs:Hepatitis B                      False\n",
       "STDs:HPV                              False\n",
       "STDs: Number of diagnosis             False\n",
       "STDs: Time since first diagnosis      False\n",
       "STDs: Time since last diagnosis       False\n",
       "Dx:Cancer                             False\n",
       "Dx:CIN                                False\n",
       "Dx:HPV                                False\n",
       "Dx                                    False\n",
       "Hinselmann                            False\n",
       "Schiller                              False\n",
       "Citology                              False\n",
       "Biopsy                                False\n",
       "dtype: bool"
      ]
     },
     "execution_count": 365,
     "metadata": {},
     "output_type": "execute_result"
    }
   ],
   "source": [
    "data.isna().any()"
   ]
  },
  {
   "cell_type": "markdown",
   "metadata": {},
   "source": [
    "Because the data has been analysed before there's no need to clean the data"
   ]
  },
  {
   "cell_type": "code",
   "execution_count": 366,
   "metadata": {},
   "outputs": [
    {
     "data": {
      "text/plain": [
       "<matplotlib.axes._subplots.AxesSubplot at 0x1a3a43e9e8>"
      ]
     },
     "execution_count": 366,
     "metadata": {},
     "output_type": "execute_result"
    },
    {
     "data": {
      "image/png": "[encoded data removed]",
      "text/plain": [
       "<Figure size 432x288 with 1 Axes>"
      ]
     },
     "metadata": {
      "needs_background": "light"
     },
     "output_type": "display_data"
    }
   ],
   "source": [
    "sns.countplot(data['Dx:Cancer'])"
   ]
  },
  {
   "cell_type": "code",
   "execution_count": 367,
   "metadata": {},
   "outputs": [
    {
     "data": {
      "text/plain": [
       "<matplotlib.axes._subplots.AxesSubplot at 0x1a398ccfd0>"
      ]
     },
     "execution_count": 367,
     "metadata": {},
     "output_type": "execute_result"
    },
    {
     "data": {
      "image/png": "[encoded data removed]",
      "text/plain": [
       "<Figure size 432x288 with 1 Axes>"
      ]
     },
     "metadata": {
      "needs_background": "light"
     },
     "output_type": "display_data"
    }
   ],
   "source": [
    "#sns.distplot(data['V1'], kde=False, rug=True);\n",
    "sns.distplot(data['Age'])"
   ]
  },
  {
   "cell_type": "code",
   "execution_count": 368,
   "metadata": {},
   "outputs": [
    {
     "data": {
      "text/plain": [
       "(858, 36)"
      ]
     },
     "execution_count": 368,
     "metadata": {},
     "output_type": "execute_result"
    }
   ],
   "source": [
    "data.rename(columns={'Dx:Cancer':'Class'}, inplace=True)\n",
    "\n",
    "data.shape"
   ]
  },
  {
   "cell_type": "code",
   "execution_count": 369,
   "metadata": {},
   "outputs": [],
   "source": [
    "data = data.drop(columns={'STDs: Time since first diagnosis','STDs: Time since last diagnosis' })"
   ]
  },
  {
   "cell_type": "markdown",
   "metadata": {},
   "source": [
    "There are no NA but there are special symbols like ? that needs to be replace, for that we are going to take the mean for the variables and replace the values"
   ]
  },
  {
   "cell_type": "code",
   "execution_count": 370,
   "metadata": {},
   "outputs": [],
   "source": [
    "data = data.replace('?',)"
   ]
  },
  {
   "cell_type": "code",
   "execution_count": 371,
   "metadata": {},
   "outputs": [
    {
     "data": {
      "text/html": [
       "<div>\n",
       "<style scoped>\n",
       "    .dataframe tbody tr th:only-of-type {\n",
       "        vertical-align: middle;\n",
       "    }\n",
       "\n",
       "    .dataframe tbody tr th {\n",
       "        vertical-align: top;\n",
       "    }\n",
       "\n",
       "    .dataframe thead th {\n",
       "        text-align: right;\n",
       "    }\n",
       "</style>\n",
       "<table border=\"1\" class=\"dataframe\">\n",
       "  <thead>\n",
       "    <tr style=\"text-align: right;\">\n",
       "      <th></th>\n",
       "      <th>Age</th>\n",
       "      <th>Number of sexual partners</th>\n",
       "      <th>First sexual intercourse</th>\n",
       "      <th>Num of pregnancies</th>\n",
       "      <th>Smokes</th>\n",
       "      <th>Smokes (years)</th>\n",
       "      <th>Smokes (packs/year)</th>\n",
       "      <th>Hormonal Contraceptives</th>\n",
       "      <th>Hormonal Contraceptives (years)</th>\n",
       "      <th>IUD</th>\n",
       "      <th>...</th>\n",
       "      <th>STDs:HPV</th>\n",
       "      <th>STDs: Number of diagnosis</th>\n",
       "      <th>Class</th>\n",
       "      <th>Dx:CIN</th>\n",
       "      <th>Dx:HPV</th>\n",
       "      <th>Dx</th>\n",
       "      <th>Hinselmann</th>\n",
       "      <th>Schiller</th>\n",
       "      <th>Citology</th>\n",
       "      <th>Biopsy</th>\n",
       "    </tr>\n",
       "  </thead>\n",
       "  <tbody>\n",
       "    <tr>\n",
       "      <th>0</th>\n",
       "      <td>18</td>\n",
       "      <td>4.0</td>\n",
       "      <td>15.0</td>\n",
       "      <td>1.0</td>\n",
       "      <td>0.0</td>\n",
       "      <td>0.0</td>\n",
       "      <td>0.0</td>\n",
       "      <td>0.0</td>\n",
       "      <td>0.0</td>\n",
       "      <td>0.0</td>\n",
       "      <td>...</td>\n",
       "      <td>0.0</td>\n",
       "      <td>0</td>\n",
       "      <td>0</td>\n",
       "      <td>0</td>\n",
       "      <td>0</td>\n",
       "      <td>0</td>\n",
       "      <td>0</td>\n",
       "      <td>0</td>\n",
       "      <td>0</td>\n",
       "      <td>0</td>\n",
       "    </tr>\n",
       "    <tr>\n",
       "      <th>1</th>\n",
       "      <td>15</td>\n",
       "      <td>1.0</td>\n",
       "      <td>14.0</td>\n",
       "      <td>1.0</td>\n",
       "      <td>0.0</td>\n",
       "      <td>0.0</td>\n",
       "      <td>0.0</td>\n",
       "      <td>0.0</td>\n",
       "      <td>0.0</td>\n",
       "      <td>0.0</td>\n",
       "      <td>...</td>\n",
       "      <td>0.0</td>\n",
       "      <td>0</td>\n",
       "      <td>0</td>\n",
       "      <td>0</td>\n",
       "      <td>0</td>\n",
       "      <td>0</td>\n",
       "      <td>0</td>\n",
       "      <td>0</td>\n",
       "      <td>0</td>\n",
       "      <td>0</td>\n",
       "    </tr>\n",
       "    <tr>\n",
       "      <th>2</th>\n",
       "      <td>34</td>\n",
       "      <td>1.0</td>\n",
       "      <td>14.0</td>\n",
       "      <td>1.0</td>\n",
       "      <td>0.0</td>\n",
       "      <td>0.0</td>\n",
       "      <td>0.0</td>\n",
       "      <td>0.0</td>\n",
       "      <td>0.0</td>\n",
       "      <td>0.0</td>\n",
       "      <td>...</td>\n",
       "      <td>0.0</td>\n",
       "      <td>0</td>\n",
       "      <td>0</td>\n",
       "      <td>0</td>\n",
       "      <td>0</td>\n",
       "      <td>0</td>\n",
       "      <td>0</td>\n",
       "      <td>0</td>\n",
       "      <td>0</td>\n",
       "      <td>0</td>\n",
       "    </tr>\n",
       "    <tr>\n",
       "      <th>3</th>\n",
       "      <td>52</td>\n",
       "      <td>5.0</td>\n",
       "      <td>16.0</td>\n",
       "      <td>4.0</td>\n",
       "      <td>1.0</td>\n",
       "      <td>37.0</td>\n",
       "      <td>37.0</td>\n",
       "      <td>1.0</td>\n",
       "      <td>3.0</td>\n",
       "      <td>0.0</td>\n",
       "      <td>...</td>\n",
       "      <td>0.0</td>\n",
       "      <td>0</td>\n",
       "      <td>1</td>\n",
       "      <td>0</td>\n",
       "      <td>1</td>\n",
       "      <td>0</td>\n",
       "      <td>0</td>\n",
       "      <td>0</td>\n",
       "      <td>0</td>\n",
       "      <td>0</td>\n",
       "    </tr>\n",
       "    <tr>\n",
       "      <th>4</th>\n",
       "      <td>46</td>\n",
       "      <td>3.0</td>\n",
       "      <td>21.0</td>\n",
       "      <td>4.0</td>\n",
       "      <td>0.0</td>\n",
       "      <td>0.0</td>\n",
       "      <td>0.0</td>\n",
       "      <td>1.0</td>\n",
       "      <td>15.0</td>\n",
       "      <td>0.0</td>\n",
       "      <td>...</td>\n",
       "      <td>0.0</td>\n",
       "      <td>0</td>\n",
       "      <td>0</td>\n",
       "      <td>0</td>\n",
       "      <td>0</td>\n",
       "      <td>0</td>\n",
       "      <td>0</td>\n",
       "      <td>0</td>\n",
       "      <td>0</td>\n",
       "      <td>0</td>\n",
       "    </tr>\n",
       "  </tbody>\n",
       "</table>\n",
       "<p>5 rows × 34 columns</p>\n",
       "</div>"
      ],
      "text/plain": [
       "   Age Number of sexual partners First sexual intercourse Num of pregnancies  \\\n",
       "0   18                       4.0                     15.0                1.0   \n",
       "1   15                       1.0                     14.0                1.0   \n",
       "2   34                       1.0                     14.0                1.0   \n",
       "3   52                       5.0                     16.0                4.0   \n",
       "4   46                       3.0                     21.0                4.0   \n",
       "\n",
       "  Smokes Smokes (years) Smokes (packs/year) Hormonal Contraceptives  \\\n",
       "0    0.0            0.0                 0.0                     0.0   \n",
       "1    0.0            0.0                 0.0                     0.0   \n",
       "2    0.0            0.0                 0.0                     0.0   \n",
       "3    1.0           37.0                37.0                     1.0   \n",
       "4    0.0            0.0                 0.0                     1.0   \n",
       "\n",
       "  Hormonal Contraceptives (years)  IUD  ...   STDs:HPV  \\\n",
       "0                             0.0  0.0  ...        0.0   \n",
       "1                             0.0  0.0  ...        0.0   \n",
       "2                             0.0  0.0  ...        0.0   \n",
       "3                             3.0  0.0  ...        0.0   \n",
       "4                            15.0  0.0  ...        0.0   \n",
       "\n",
       "  STDs: Number of diagnosis Class Dx:CIN Dx:HPV Dx Hinselmann Schiller  \\\n",
       "0                         0     0      0      0  0          0        0   \n",
       "1                         0     0      0      0  0          0        0   \n",
       "2                         0     0      0      0  0          0        0   \n",
       "3                         0     1      0      1  0          0        0   \n",
       "4                         0     0      0      0  0          0        0   \n",
       "\n",
       "  Citology Biopsy  \n",
       "0        0      0  \n",
       "1        0      0  \n",
       "2        0      0  \n",
       "3        0      0  \n",
       "4        0      0  \n",
       "\n",
       "[5 rows x 34 columns]"
      ]
     },
     "execution_count": 371,
     "metadata": {},
     "output_type": "execute_result"
    }
   ],
   "source": [
    "data.head()"
   ]
  },
  {
   "cell_type": "code",
   "execution_count": 372,
   "metadata": {},
   "outputs": [
    {
     "name": "stdout",
     "output_type": "stream",
     "text": [
      "Cancer\n",
      "count    18.000000\n",
      "mean     33.222222\n",
      "std       8.235901\n",
      "min      19.000000\n",
      "25%      27.500000\n",
      "50%      31.500000\n",
      "75%      38.000000\n",
      "max      52.000000\n",
      "Name: Age, dtype: float64\n",
      "\n",
      "Normal\n",
      "count    840.000000\n",
      "mean      26.683333\n",
      "std        8.455293\n",
      "min       13.000000\n",
      "25%       20.000000\n",
      "50%       25.000000\n",
      "75%       32.000000\n",
      "max       84.000000\n",
      "Name: Age, dtype: float64\n"
     ]
    }
   ],
   "source": [
    "print (\"Cancer\")\n",
    "print (data.Age[data.Class == 1].describe())\n",
    "print ()\n",
    "print (\"Normal\")\n",
    "print (data.Age[data.Class == 0].describe())"
   ]
  },
  {
   "cell_type": "code",
   "execution_count": 373,
   "metadata": {},
   "outputs": [
    {
     "data": {
      "image/png": "[encoded data removed]",
      "text/plain": [
       "<Figure size 864x288 with 2 Axes>"
      ]
     },
     "metadata": {
      "needs_background": "light"
     },
     "output_type": "display_data"
    }
   ],
   "source": [
    "f, (ax1, ax2) = plt.subplots(2, 1, sharex=True, figsize=(12,4))\n",
    "\n",
    "bins = 20\n",
    "\n",
    "ax1.hist(data.Age[data.Class == 1], bins = bins)\n",
    "ax1.set_title('Cancer')\n",
    "\n",
    "ax2.hist(data.Age[data.Class == 0], bins = bins)\n",
    "ax2.set_title('Normal')\n",
    "\n",
    "plt.xlabel('Age')\n",
    "plt.ylabel('Cancer')\n",
    "plt.yscale('log')\n",
    "plt.show()"
   ]
  },
  {
   "cell_type": "markdown",
   "metadata": {},
   "source": [
    "# Dimensionality reduction with autoencoders\n",
    "Reference: https://blog.keras.io/building-autoencoders-in-keras.html"
   ]
  },
  {
   "cell_type": "markdown",
   "metadata": {},
   "source": [
    "### First approach just for testing"
   ]
  },
  {
   "cell_type": "code",
   "execution_count": 452,
   "metadata": {},
   "outputs": [],
   "source": [
    "train = data\n"
   ]
  },
  {
   "cell_type": "code",
   "execution_count": 453,
   "metadata": {},
   "outputs": [],
   "source": [
    "X = train.drop(['Class'], axis = 1).values\n",
    "Y = train[\"Class\"].values"
   ]
  },
  {
   "cell_type": "code",
   "execution_count": 454,
   "metadata": {},
   "outputs": [],
   "source": [
    "## input layer \n",
    "input_layer = Input(shape=(X.shape[1],))\n",
    "\n",
    "## encoding part\n",
    "encoded = Dense(20, activation='tanh', activity_regularizer=regularizers.l1(10e-5))(input_layer)\n",
    "encoded = Dense(12, activation='relu')(encoded)\n",
    "\n",
    "## decoding part\n",
    "decoded = Dense(12, activation='tanh')(encoded)\n",
    "decoded = Dense(20, activation='tanh')(decoded)\n",
    "\n",
    "## output layer\n",
    "output_layer = Dense(X.shape[1], activation='relu')(decoded)"
   ]
  },
  {
   "cell_type": "code",
   "execution_count": 455,
   "metadata": {},
   "outputs": [],
   "source": [
    "autoencoder = Model(input_layer, output_layer)\n",
    "autoencoder.compile(optimizer=\"adadelta\", loss=\"mse\")"
   ]
  },
  {
   "cell_type": "code",
   "execution_count": 456,
   "metadata": {},
   "outputs": [],
   "source": [
    "x = train.drop([\"Class\"], axis=1)\n",
    "y = train[\"Class\"].values\n",
    "\n",
    "x = preprocessing.MinMaxScaler().fit_transform(x.values)\n",
    "#x_norm, x_fraud = x_scale[y == 0], x_scale[y == 1]"
   ]
  },
  {
   "cell_type": "code",
   "execution_count": 457,
   "metadata": {},
   "outputs": [
    {
     "name": "stdout",
     "output_type": "stream",
     "text": [
      "Train on 686 samples, validate on 172 samples\n",
      "Epoch 1/10\n",
      "686/686 [==============================] - 1s 2ms/step - loss: 0.1422 - val_loss: 0.1106\n",
      "Epoch 2/10\n",
      "686/686 [==============================] - 0s 21us/step - loss: 0.1370 - val_loss: 0.1067\n",
      "Epoch 3/10\n",
      "686/686 [==============================] - 0s 22us/step - loss: 0.1321 - val_loss: 0.1031\n",
      "Epoch 4/10\n",
      "686/686 [==============================] - 0s 21us/step - loss: 0.1269 - val_loss: 0.1000\n",
      "Epoch 5/10\n",
      "686/686 [==============================] - 0s 33us/step - loss: 0.1233 - val_loss: 0.0972\n",
      "Epoch 6/10\n",
      "686/686 [==============================] - 0s 25us/step - loss: 0.1194 - val_loss: 0.0945\n",
      "Epoch 7/10\n",
      "686/686 [==============================] - 0s 18us/step - loss: 0.1159 - val_loss: 0.0921\n",
      "Epoch 8/10\n",
      "686/686 [==============================] - 0s 31us/step - loss: 0.1126 - val_loss: 0.0898\n",
      "Epoch 9/10\n",
      "686/686 [==============================] - 0s 21us/step - loss: 0.1096 - val_loss: 0.0876\n",
      "Epoch 10/10\n",
      "686/686 [==============================] - 0s 26us/step - loss: 0.1061 - val_loss: 0.0856\n"
     ]
    },
    {
     "data": {
      "text/plain": [
       "<keras.callbacks.History at 0x1a3b8a5630>"
      ]
     },
     "execution_count": 457,
     "metadata": {},
     "output_type": "execute_result"
    }
   ],
   "source": [
    "autoencoder.fit(x, x, \n",
    "                batch_size = 256, epochs = 10, \n",
    "                shuffle = True, validation_split = 0.20)\n",
    "\n",
    "#change for x_Test"
   ]
  },
  {
   "cell_type": "code",
   "execution_count": 458,
   "metadata": {},
   "outputs": [],
   "source": [
    "features = Sequential()\n",
    "features.add(autoencoder.layers[0])\n",
    "features.add(autoencoder.layers[1])\n",
    "#features.add(autoencoder.layers[2])"
   ]
  },
  {
   "cell_type": "code",
   "execution_count": 459,
   "metadata": {},
   "outputs": [],
   "source": [
    "features.compile(optimizer=\"adadelta\", loss=\"mse\")"
   ]
  },
  {
   "cell_type": "code",
   "execution_count": 460,
   "metadata": {},
   "outputs": [],
   "source": [
    "#hidden_representation.fit(x,x)"
   ]
  },
  {
   "cell_type": "code",
   "execution_count": 461,
   "metadata": {},
   "outputs": [],
   "source": [
    "#Reduced features\n",
    "predict = pd.DataFrame(features.predict(x))"
   ]
  },
  {
   "cell_type": "code",
   "execution_count": 462,
   "metadata": {},
   "outputs": [
    {
     "data": {
      "text/plain": [
       "(858, 20)"
      ]
     },
     "execution_count": 462,
     "metadata": {},
     "output_type": "execute_result"
    }
   ],
   "source": [
    "predict.shape"
   ]
  },
  {
   "cell_type": "code",
   "execution_count": 463,
   "metadata": {},
   "outputs": [],
   "source": [
    "predict = predict.add_prefix('Feature_')"
   ]
  },
  {
   "cell_type": "code",
   "execution_count": 464,
   "metadata": {},
   "outputs": [],
   "source": [
    "predict['target'] = y"
   ]
  },
  {
   "cell_type": "code",
   "execution_count": 465,
   "metadata": {},
   "outputs": [
    {
     "data": {
      "text/html": [
       "<div>\n",
       "<style scoped>\n",
       "    .dataframe tbody tr th:only-of-type {\n",
       "        vertical-align: middle;\n",
       "    }\n",
       "\n",
       "    .dataframe tbody tr th {\n",
       "        vertical-align: top;\n",
       "    }\n",
       "\n",
       "    .dataframe thead th {\n",
       "        text-align: right;\n",
       "    }\n",
       "</style>\n",
       "<table border=\"1\" class=\"dataframe\">\n",
       "  <thead>\n",
       "    <tr style=\"text-align: right;\">\n",
       "      <th></th>\n",
       "      <th>Feature_0</th>\n",
       "      <th>Feature_1</th>\n",
       "      <th>Feature_2</th>\n",
       "      <th>Feature_3</th>\n",
       "      <th>Feature_4</th>\n",
       "      <th>Feature_5</th>\n",
       "      <th>Feature_6</th>\n",
       "      <th>Feature_7</th>\n",
       "      <th>Feature_8</th>\n",
       "      <th>Feature_9</th>\n",
       "      <th>...</th>\n",
       "      <th>Feature_11</th>\n",
       "      <th>Feature_12</th>\n",
       "      <th>Feature_13</th>\n",
       "      <th>Feature_14</th>\n",
       "      <th>Feature_15</th>\n",
       "      <th>Feature_16</th>\n",
       "      <th>Feature_17</th>\n",
       "      <th>Feature_18</th>\n",
       "      <th>Feature_19</th>\n",
       "      <th>target</th>\n",
       "    </tr>\n",
       "  </thead>\n",
       "  <tbody>\n",
       "    <tr>\n",
       "      <th>0</th>\n",
       "      <td>0.024420</td>\n",
       "      <td>-0.062213</td>\n",
       "      <td>0.003231</td>\n",
       "      <td>0.041097</td>\n",
       "      <td>-0.035613</td>\n",
       "      <td>0.050355</td>\n",
       "      <td>0.032992</td>\n",
       "      <td>-0.041599</td>\n",
       "      <td>-0.046418</td>\n",
       "      <td>0.036952</td>\n",
       "      <td>...</td>\n",
       "      <td>0.004646</td>\n",
       "      <td>-0.078036</td>\n",
       "      <td>0.124971</td>\n",
       "      <td>-0.006713</td>\n",
       "      <td>-0.077418</td>\n",
       "      <td>-0.078474</td>\n",
       "      <td>-0.069141</td>\n",
       "      <td>-0.079703</td>\n",
       "      <td>0.001507</td>\n",
       "      <td>0</td>\n",
       "    </tr>\n",
       "    <tr>\n",
       "      <th>1</th>\n",
       "      <td>0.001622</td>\n",
       "      <td>-0.029594</td>\n",
       "      <td>0.018541</td>\n",
       "      <td>0.058957</td>\n",
       "      <td>-0.011700</td>\n",
       "      <td>0.023560</td>\n",
       "      <td>0.007825</td>\n",
       "      <td>-0.012051</td>\n",
       "      <td>-0.071286</td>\n",
       "      <td>0.007558</td>\n",
       "      <td>...</td>\n",
       "      <td>0.022164</td>\n",
       "      <td>-0.072412</td>\n",
       "      <td>0.099467</td>\n",
       "      <td>-0.010646</td>\n",
       "      <td>-0.077444</td>\n",
       "      <td>-0.064725</td>\n",
       "      <td>-0.050613</td>\n",
       "      <td>-0.089268</td>\n",
       "      <td>0.008219</td>\n",
       "      <td>0</td>\n",
       "    </tr>\n",
       "    <tr>\n",
       "      <th>2</th>\n",
       "      <td>-0.045039</td>\n",
       "      <td>-0.053999</td>\n",
       "      <td>0.040276</td>\n",
       "      <td>0.094378</td>\n",
       "      <td>0.000464</td>\n",
       "      <td>0.088164</td>\n",
       "      <td>0.068186</td>\n",
       "      <td>0.015193</td>\n",
       "      <td>-0.061532</td>\n",
       "      <td>-0.013105</td>\n",
       "      <td>...</td>\n",
       "      <td>-0.045512</td>\n",
       "      <td>-0.085907</td>\n",
       "      <td>0.119206</td>\n",
       "      <td>-0.010143</td>\n",
       "      <td>-0.032056</td>\n",
       "      <td>-0.062575</td>\n",
       "      <td>0.012103</td>\n",
       "      <td>-0.040987</td>\n",
       "      <td>-0.022289</td>\n",
       "      <td>0</td>\n",
       "    </tr>\n",
       "    <tr>\n",
       "      <th>3</th>\n",
       "      <td>-0.010391</td>\n",
       "      <td>0.326723</td>\n",
       "      <td>-0.389778</td>\n",
       "      <td>-0.178272</td>\n",
       "      <td>-0.521781</td>\n",
       "      <td>-0.452910</td>\n",
       "      <td>0.419209</td>\n",
       "      <td>0.396385</td>\n",
       "      <td>0.018348</td>\n",
       "      <td>0.600720</td>\n",
       "      <td>...</td>\n",
       "      <td>0.151935</td>\n",
       "      <td>0.417459</td>\n",
       "      <td>-0.273338</td>\n",
       "      <td>0.353902</td>\n",
       "      <td>0.319801</td>\n",
       "      <td>0.065350</td>\n",
       "      <td>-0.027499</td>\n",
       "      <td>0.635097</td>\n",
       "      <td>-0.608849</td>\n",
       "      <td>1</td>\n",
       "    </tr>\n",
       "    <tr>\n",
       "      <th>4</th>\n",
       "      <td>0.220337</td>\n",
       "      <td>-0.001183</td>\n",
       "      <td>0.085008</td>\n",
       "      <td>-0.084759</td>\n",
       "      <td>-0.403655</td>\n",
       "      <td>0.146485</td>\n",
       "      <td>-0.084111</td>\n",
       "      <td>0.030820</td>\n",
       "      <td>0.045056</td>\n",
       "      <td>0.142211</td>\n",
       "      <td>...</td>\n",
       "      <td>0.125179</td>\n",
       "      <td>-0.041004</td>\n",
       "      <td>0.026118</td>\n",
       "      <td>0.099644</td>\n",
       "      <td>0.162042</td>\n",
       "      <td>0.227509</td>\n",
       "      <td>0.110666</td>\n",
       "      <td>-0.061084</td>\n",
       "      <td>-0.120227</td>\n",
       "      <td>0</td>\n",
       "    </tr>\n",
       "  </tbody>\n",
       "</table>\n",
       "<p>5 rows × 21 columns</p>\n",
       "</div>"
      ],
      "text/plain": [
       "   Feature_0  Feature_1  Feature_2  Feature_3  Feature_4  Feature_5  \\\n",
       "0   0.024420  -0.062213   0.003231   0.041097  -0.035613   0.050355   \n",
       "1   0.001622  -0.029594   0.018541   0.058957  -0.011700   0.023560   \n",
       "2  -0.045039  -0.053999   0.040276   0.094378   0.000464   0.088164   \n",
       "3  -0.010391   0.326723  -0.389778  -0.178272  -0.521781  -0.452910   \n",
       "4   0.220337  -0.001183   0.085008  -0.084759  -0.403655   0.146485   \n",
       "\n",
       "   Feature_6  Feature_7  Feature_8  Feature_9   ...    Feature_11  Feature_12  \\\n",
       "0   0.032992  -0.041599  -0.046418   0.036952   ...      0.004646   -0.078036   \n",
       "1   0.007825  -0.012051  -0.071286   0.007558   ...      0.022164   -0.072412   \n",
       "2   0.068186   0.015193  -0.061532  -0.013105   ...     -0.045512   -0.085907   \n",
       "3   0.419209   0.396385   0.018348   0.600720   ...      0.151935    0.417459   \n",
       "4  -0.084111   0.030820   0.045056   0.142211   ...      0.125179   -0.041004   \n",
       "\n",
       "   Feature_13  Feature_14  Feature_15  Feature_16  Feature_17  Feature_18  \\\n",
       "0    0.124971   -0.006713   -0.077418   -0.078474   -0.069141   -0.079703   \n",
       "1    0.099467   -0.010646   -0.077444   -0.064725   -0.050613   -0.089268   \n",
       "2    0.119206   -0.010143   -0.032056   -0.062575    0.012103   -0.040987   \n",
       "3   -0.273338    0.353902    0.319801    0.065350   -0.027499    0.635097   \n",
       "4    0.026118    0.099644    0.162042    0.227509    0.110666   -0.061084   \n",
       "\n",
       "   Feature_19  target  \n",
       "0    0.001507       0  \n",
       "1    0.008219       0  \n",
       "2   -0.022289       0  \n",
       "3   -0.608849       1  \n",
       "4   -0.120227       0  \n",
       "\n",
       "[5 rows x 21 columns]"
      ]
     },
     "execution_count": 465,
     "metadata": {},
     "output_type": "execute_result"
    }
   ],
   "source": [
    "predict.head()"
   ]
  },
  {
   "cell_type": "markdown",
   "metadata": {},
   "source": [
    "#### Dividng the datasets\n",
    "We are going to divide the dataset train"
   ]
  },
  {
   "cell_type": "code",
   "execution_count": 466,
   "metadata": {},
   "outputs": [],
   "source": [
    "train = data"
   ]
  },
  {
   "cell_type": "code",
   "execution_count": 467,
   "metadata": {},
   "outputs": [
    {
     "data": {
      "text/plain": [
       "((686, 34), (172, 34))"
      ]
     },
     "execution_count": 467,
     "metadata": {},
     "output_type": "execute_result"
    }
   ],
   "source": [
    "train_df, test_df = train_test_split(train, test_size=0.2)\n",
    "train_df.shape, test_df.shape"
   ]
  },
  {
   "cell_type": "code",
   "execution_count": 468,
   "metadata": {},
   "outputs": [],
   "source": [
    "#Training data\n",
    "x_train = train_df.drop(['Class'], axis = 1).values\n",
    "y_train = train_df[\"Class\"].values\n",
    "\n",
    "#Testing data\n",
    "x_test = test_df.drop(['Class'], axis = 1).values\n",
    "y_test = test_df[\"Class\"].values"
   ]
  },
  {
   "cell_type": "code",
   "execution_count": 469,
   "metadata": {},
   "outputs": [
    {
     "data": {
      "text/plain": [
       "((686, 33), (686,), (172, 33), (172,))"
      ]
     },
     "execution_count": 469,
     "metadata": {},
     "output_type": "execute_result"
    }
   ],
   "source": [
    "x_train.shape, y_train.shape, x_test.shape, y_test.shape"
   ]
  },
  {
   "cell_type": "markdown",
   "metadata": {},
   "source": [
    "#### Creating the autoencoder"
   ]
  },
  {
   "cell_type": "code",
   "execution_count": 470,
   "metadata": {},
   "outputs": [],
   "source": [
    "## input layer \n",
    "input_layer = Input(shape=(x_train.shape[1],))\n",
    "\n",
    "## encoding part\n",
    "encoded = Dense(20, activation='tanh', activity_regularizer=regularizers.l1(10e-5))(input_layer)\n",
    "encoded = Dense(12, activation='relu')(encoded)\n",
    "\n",
    "## decoding part\n",
    "decoded = Dense(12, activation='tanh')(encoded)\n",
    "decoded = Dense(20, activation='tanh')(decoded)\n",
    "\n",
    "## output layer\n",
    "output_layer = Dense(x_train.shape[1], activation='relu')(decoded)"
   ]
  },
  {
   "cell_type": "code",
   "execution_count": 471,
   "metadata": {},
   "outputs": [],
   "source": [
    "autoencoder = Model(input_layer, output_layer)\n",
    "autoencoder.compile(optimizer=\"adadelta\", loss=\"mse\")"
   ]
  },
  {
   "cell_type": "code",
   "execution_count": 472,
   "metadata": {},
   "outputs": [],
   "source": [
    "#Normalizing the data\n",
    "x_train = pd.DataFrame(x_train)#.values)\n",
    "x_train = preprocessing.MinMaxScaler().fit_transform(x_train.values)"
   ]
  },
  {
   "cell_type": "code",
   "execution_count": 473,
   "metadata": {},
   "outputs": [
    {
     "data": {
      "text/plain": [
       "((686, 33), (172, 33))"
      ]
     },
     "execution_count": 473,
     "metadata": {},
     "output_type": "execute_result"
    }
   ],
   "source": [
    "x_train.shape, x_test.shape"
   ]
  },
  {
   "cell_type": "code",
   "execution_count": 475,
   "metadata": {},
   "outputs": [
    {
     "name": "stdout",
     "output_type": "stream",
     "text": [
      "Train on 686 samples, validate on 172 samples\n",
      "Epoch 1/10\n",
      "686/686 [==============================] - 1s 2ms/step - loss: 0.1384 - val_loss: 35.3618\n",
      "Epoch 2/10\n",
      "686/686 [==============================] - 0s 24us/step - loss: 0.1312 - val_loss: 35.3152\n",
      "Epoch 3/10\n",
      "686/686 [==============================] - 0s 24us/step - loss: 0.1262 - val_loss: 35.2625\n",
      "Epoch 4/10\n",
      "686/686 [==============================] - 0s 34us/step - loss: 0.1208 - val_loss: 35.1994\n",
      "Epoch 5/10\n",
      "686/686 [==============================] - 0s 36us/step - loss: 0.1161 - val_loss: 35.1353\n",
      "Epoch 6/10\n",
      "686/686 [==============================] - 0s 33us/step - loss: 0.1120 - val_loss: 35.0819\n",
      "Epoch 7/10\n",
      "686/686 [==============================] - 0s 30us/step - loss: 0.1086 - val_loss: 35.0399\n",
      "Epoch 8/10\n",
      "686/686 [==============================] - 0s 35us/step - loss: 0.1057 - val_loss: 35.0119\n",
      "Epoch 9/10\n",
      "686/686 [==============================] - 0s 35us/step - loss: 0.1026 - val_loss: 34.9959\n",
      "Epoch 10/10\n",
      "686/686 [==============================] - 0s 23us/step - loss: 0.0999 - val_loss: 34.9859\n"
     ]
    },
    {
     "data": {
      "text/plain": [
       "<keras.callbacks.History at 0x1a3b8d2978>"
      ]
     },
     "execution_count": 475,
     "metadata": {},
     "output_type": "execute_result"
    }
   ],
   "source": [
    "autoencoder.fit(x_train, x_train, \n",
    "                batch_size = 256, epochs = 10, \n",
    "                shuffle = True, validation_data =(x_test,x_test))"
   ]
  },
  {
   "cell_type": "code",
   "execution_count": 476,
   "metadata": {},
   "outputs": [],
   "source": [
    "features = Sequential()\n",
    "features.add(autoencoder.layers[0])\n",
    "features.add(autoencoder.layers[1])"
   ]
  },
  {
   "cell_type": "code",
   "execution_count": 477,
   "metadata": {},
   "outputs": [],
   "source": [
    "features.compile(optimizer=\"adadelta\", loss=\"mse\")"
   ]
  },
  {
   "cell_type": "code",
   "execution_count": 478,
   "metadata": {},
   "outputs": [],
   "source": [
    "#Reduced features\n",
    "predict = pd.DataFrame(features.predict(x_train))"
   ]
  },
  {
   "cell_type": "code",
   "execution_count": 479,
   "metadata": {},
   "outputs": [
    {
     "data": {
      "text/plain": [
       "(686, 20)"
      ]
     },
     "execution_count": 479,
     "metadata": {},
     "output_type": "execute_result"
    }
   ],
   "source": [
    "predict = predict.add_prefix('Feature_')\n",
    "predict.shape"
   ]
  },
  {
   "cell_type": "code",
   "execution_count": 480,
   "metadata": {},
   "outputs": [],
   "source": [
    "predict['target'] = y_train"
   ]
  },
  {
   "cell_type": "code",
   "execution_count": 481,
   "metadata": {},
   "outputs": [
    {
     "data": {
      "text/html": [
       "<div>\n",
       "<style scoped>\n",
       "    .dataframe tbody tr th:only-of-type {\n",
       "        vertical-align: middle;\n",
       "    }\n",
       "\n",
       "    .dataframe tbody tr th {\n",
       "        vertical-align: top;\n",
       "    }\n",
       "\n",
       "    .dataframe thead th {\n",
       "        text-align: right;\n",
       "    }\n",
       "</style>\n",
       "<table border=\"1\" class=\"dataframe\">\n",
       "  <thead>\n",
       "    <tr style=\"text-align: right;\">\n",
       "      <th></th>\n",
       "      <th>Feature_0</th>\n",
       "      <th>Feature_1</th>\n",
       "      <th>Feature_2</th>\n",
       "      <th>Feature_3</th>\n",
       "      <th>Feature_4</th>\n",
       "      <th>Feature_5</th>\n",
       "      <th>Feature_6</th>\n",
       "      <th>Feature_7</th>\n",
       "      <th>Feature_8</th>\n",
       "      <th>Feature_9</th>\n",
       "      <th>...</th>\n",
       "      <th>Feature_11</th>\n",
       "      <th>Feature_12</th>\n",
       "      <th>Feature_13</th>\n",
       "      <th>Feature_14</th>\n",
       "      <th>Feature_15</th>\n",
       "      <th>Feature_16</th>\n",
       "      <th>Feature_17</th>\n",
       "      <th>Feature_18</th>\n",
       "      <th>Feature_19</th>\n",
       "      <th>target</th>\n",
       "    </tr>\n",
       "  </thead>\n",
       "  <tbody>\n",
       "    <tr>\n",
       "      <th>0</th>\n",
       "      <td>0.046009</td>\n",
       "      <td>-0.022220</td>\n",
       "      <td>0.007868</td>\n",
       "      <td>-0.017938</td>\n",
       "      <td>0.028766</td>\n",
       "      <td>-0.020177</td>\n",
       "      <td>-0.087806</td>\n",
       "      <td>0.001016</td>\n",
       "      <td>-0.089820</td>\n",
       "      <td>0.046967</td>\n",
       "      <td>...</td>\n",
       "      <td>0.032374</td>\n",
       "      <td>0.045460</td>\n",
       "      <td>0.054626</td>\n",
       "      <td>0.084450</td>\n",
       "      <td>0.044192</td>\n",
       "      <td>-0.073252</td>\n",
       "      <td>-0.032661</td>\n",
       "      <td>-0.080587</td>\n",
       "      <td>-0.144519</td>\n",
       "      <td>0</td>\n",
       "    </tr>\n",
       "    <tr>\n",
       "      <th>1</th>\n",
       "      <td>0.406304</td>\n",
       "      <td>-0.510253</td>\n",
       "      <td>0.015515</td>\n",
       "      <td>0.361124</td>\n",
       "      <td>0.075794</td>\n",
       "      <td>-0.368996</td>\n",
       "      <td>-0.220190</td>\n",
       "      <td>0.508408</td>\n",
       "      <td>0.156007</td>\n",
       "      <td>-0.191446</td>\n",
       "      <td>...</td>\n",
       "      <td>-0.069365</td>\n",
       "      <td>0.004473</td>\n",
       "      <td>0.333952</td>\n",
       "      <td>0.208310</td>\n",
       "      <td>0.118938</td>\n",
       "      <td>0.081147</td>\n",
       "      <td>-0.181938</td>\n",
       "      <td>-0.260512</td>\n",
       "      <td>-0.156857</td>\n",
       "      <td>0</td>\n",
       "    </tr>\n",
       "    <tr>\n",
       "      <th>2</th>\n",
       "      <td>0.016819</td>\n",
       "      <td>-0.061988</td>\n",
       "      <td>-0.051102</td>\n",
       "      <td>-0.343416</td>\n",
       "      <td>0.143230</td>\n",
       "      <td>-0.130717</td>\n",
       "      <td>0.009015</td>\n",
       "      <td>-0.037246</td>\n",
       "      <td>-0.026427</td>\n",
       "      <td>-0.096112</td>\n",
       "      <td>...</td>\n",
       "      <td>-0.112390</td>\n",
       "      <td>0.027503</td>\n",
       "      <td>0.073311</td>\n",
       "      <td>-0.152660</td>\n",
       "      <td>0.246749</td>\n",
       "      <td>-0.128792</td>\n",
       "      <td>0.148477</td>\n",
       "      <td>-0.006747</td>\n",
       "      <td>-0.116105</td>\n",
       "      <td>0</td>\n",
       "    </tr>\n",
       "    <tr>\n",
       "      <th>3</th>\n",
       "      <td>0.116090</td>\n",
       "      <td>-0.004203</td>\n",
       "      <td>-0.064368</td>\n",
       "      <td>-0.307564</td>\n",
       "      <td>0.162941</td>\n",
       "      <td>-0.225508</td>\n",
       "      <td>-0.036492</td>\n",
       "      <td>-0.141513</td>\n",
       "      <td>-0.011453</td>\n",
       "      <td>0.038687</td>\n",
       "      <td>...</td>\n",
       "      <td>-0.101730</td>\n",
       "      <td>0.109225</td>\n",
       "      <td>0.102589</td>\n",
       "      <td>-0.111383</td>\n",
       "      <td>0.265499</td>\n",
       "      <td>-0.163904</td>\n",
       "      <td>0.278295</td>\n",
       "      <td>-0.013205</td>\n",
       "      <td>-0.125137</td>\n",
       "      <td>0</td>\n",
       "    </tr>\n",
       "    <tr>\n",
       "      <th>4</th>\n",
       "      <td>-0.007433</td>\n",
       "      <td>0.048054</td>\n",
       "      <td>-0.011290</td>\n",
       "      <td>-0.267596</td>\n",
       "      <td>0.170119</td>\n",
       "      <td>-0.135617</td>\n",
       "      <td>0.107502</td>\n",
       "      <td>-0.130034</td>\n",
       "      <td>0.102624</td>\n",
       "      <td>-0.047216</td>\n",
       "      <td>...</td>\n",
       "      <td>-0.150916</td>\n",
       "      <td>-0.000503</td>\n",
       "      <td>0.008371</td>\n",
       "      <td>-0.184368</td>\n",
       "      <td>0.200927</td>\n",
       "      <td>-0.061004</td>\n",
       "      <td>0.165174</td>\n",
       "      <td>0.061412</td>\n",
       "      <td>0.028470</td>\n",
       "      <td>0</td>\n",
       "    </tr>\n",
       "  </tbody>\n",
       "</table>\n",
       "<p>5 rows × 21 columns</p>\n",
       "</div>"
      ],
      "text/plain": [
       "   Feature_0  Feature_1  Feature_2  Feature_3  Feature_4  Feature_5  \\\n",
       "0   0.046009  -0.022220   0.007868  -0.017938   0.028766  -0.020177   \n",
       "1   0.406304  -0.510253   0.015515   0.361124   0.075794  -0.368996   \n",
       "2   0.016819  -0.061988  -0.051102  -0.343416   0.143230  -0.130717   \n",
       "3   0.116090  -0.004203  -0.064368  -0.307564   0.162941  -0.225508   \n",
       "4  -0.007433   0.048054  -0.011290  -0.267596   0.170119  -0.135617   \n",
       "\n",
       "   Feature_6  Feature_7  Feature_8  Feature_9   ...    Feature_11  Feature_12  \\\n",
       "0  -0.087806   0.001016  -0.089820   0.046967   ...      0.032374    0.045460   \n",
       "1  -0.220190   0.508408   0.156007  -0.191446   ...     -0.069365    0.004473   \n",
       "2   0.009015  -0.037246  -0.026427  -0.096112   ...     -0.112390    0.027503   \n",
       "3  -0.036492  -0.141513  -0.011453   0.038687   ...     -0.101730    0.109225   \n",
       "4   0.107502  -0.130034   0.102624  -0.047216   ...     -0.150916   -0.000503   \n",
       "\n",
       "   Feature_13  Feature_14  Feature_15  Feature_16  Feature_17  Feature_18  \\\n",
       "0    0.054626    0.084450    0.044192   -0.073252   -0.032661   -0.080587   \n",
       "1    0.333952    0.208310    0.118938    0.081147   -0.181938   -0.260512   \n",
       "2    0.073311   -0.152660    0.246749   -0.128792    0.148477   -0.006747   \n",
       "3    0.102589   -0.111383    0.265499   -0.163904    0.278295   -0.013205   \n",
       "4    0.008371   -0.184368    0.200927   -0.061004    0.165174    0.061412   \n",
       "\n",
       "   Feature_19  target  \n",
       "0   -0.144519       0  \n",
       "1   -0.156857       0  \n",
       "2   -0.116105       0  \n",
       "3   -0.125137       0  \n",
       "4    0.028470       0  \n",
       "\n",
       "[5 rows x 21 columns]"
      ]
     },
     "execution_count": 481,
     "metadata": {},
     "output_type": "execute_result"
    }
   ],
   "source": [
    "predict.head()"
   ]
  },
  {
   "cell_type": "code",
   "execution_count": 482,
   "metadata": {},
   "outputs": [],
   "source": [
    "predict_test = pd.DataFrame(features.predict(x_test))"
   ]
  },
  {
   "cell_type": "code",
   "execution_count": 483,
   "metadata": {},
   "outputs": [
    {
     "data": {
      "text/plain": [
       "(172, 20)"
      ]
     },
     "execution_count": 483,
     "metadata": {},
     "output_type": "execute_result"
    }
   ],
   "source": [
    "predict_test = predict_test.add_prefix('Feature_')\n",
    "predict_test.shape"
   ]
  },
  {
   "cell_type": "code",
   "execution_count": 484,
   "metadata": {},
   "outputs": [],
   "source": [
    "predict_test['target'] = y_test"
   ]
  },
  {
   "cell_type": "code",
   "execution_count": 485,
   "metadata": {},
   "outputs": [
    {
     "data": {
      "text/html": [
       "<div>\n",
       "<style scoped>\n",
       "    .dataframe tbody tr th:only-of-type {\n",
       "        vertical-align: middle;\n",
       "    }\n",
       "\n",
       "    .dataframe tbody tr th {\n",
       "        vertical-align: top;\n",
       "    }\n",
       "\n",
       "    .dataframe thead th {\n",
       "        text-align: right;\n",
       "    }\n",
       "</style>\n",
       "<table border=\"1\" class=\"dataframe\">\n",
       "  <thead>\n",
       "    <tr style=\"text-align: right;\">\n",
       "      <th></th>\n",
       "      <th>Feature_0</th>\n",
       "      <th>Feature_1</th>\n",
       "      <th>Feature_2</th>\n",
       "      <th>Feature_3</th>\n",
       "      <th>Feature_4</th>\n",
       "      <th>Feature_5</th>\n",
       "      <th>Feature_6</th>\n",
       "      <th>Feature_7</th>\n",
       "      <th>Feature_8</th>\n",
       "      <th>Feature_9</th>\n",
       "      <th>...</th>\n",
       "      <th>Feature_11</th>\n",
       "      <th>Feature_12</th>\n",
       "      <th>Feature_13</th>\n",
       "      <th>Feature_14</th>\n",
       "      <th>Feature_15</th>\n",
       "      <th>Feature_16</th>\n",
       "      <th>Feature_17</th>\n",
       "      <th>Feature_18</th>\n",
       "      <th>Feature_19</th>\n",
       "      <th>target</th>\n",
       "    </tr>\n",
       "  </thead>\n",
       "  <tbody>\n",
       "    <tr>\n",
       "      <th>0</th>\n",
       "      <td>0.999966</td>\n",
       "      <td>-1.0</td>\n",
       "      <td>-0.725891</td>\n",
       "      <td>-1.000000</td>\n",
       "      <td>-1.000000</td>\n",
       "      <td>0.998593</td>\n",
       "      <td>-1.0</td>\n",
       "      <td>1.000000</td>\n",
       "      <td>-1.0</td>\n",
       "      <td>0.033243</td>\n",
       "      <td>...</td>\n",
       "      <td>1.000000</td>\n",
       "      <td>1.000000</td>\n",
       "      <td>1.000000</td>\n",
       "      <td>0.999946</td>\n",
       "      <td>-0.999601</td>\n",
       "      <td>-0.999949</td>\n",
       "      <td>-0.567437</td>\n",
       "      <td>-0.756753</td>\n",
       "      <td>-1.0</td>\n",
       "      <td>0</td>\n",
       "    </tr>\n",
       "    <tr>\n",
       "      <th>1</th>\n",
       "      <td>0.999729</td>\n",
       "      <td>-1.0</td>\n",
       "      <td>-0.999974</td>\n",
       "      <td>-1.000000</td>\n",
       "      <td>-0.999851</td>\n",
       "      <td>0.583831</td>\n",
       "      <td>-1.0</td>\n",
       "      <td>1.000000</td>\n",
       "      <td>-1.0</td>\n",
       "      <td>-0.999871</td>\n",
       "      <td>...</td>\n",
       "      <td>0.999262</td>\n",
       "      <td>0.998369</td>\n",
       "      <td>0.999971</td>\n",
       "      <td>0.998483</td>\n",
       "      <td>0.997352</td>\n",
       "      <td>-0.999977</td>\n",
       "      <td>0.745938</td>\n",
       "      <td>-0.999997</td>\n",
       "      <td>-1.0</td>\n",
       "      <td>0</td>\n",
       "    </tr>\n",
       "    <tr>\n",
       "      <th>2</th>\n",
       "      <td>0.999781</td>\n",
       "      <td>-1.0</td>\n",
       "      <td>-0.999994</td>\n",
       "      <td>-1.000000</td>\n",
       "      <td>-0.999959</td>\n",
       "      <td>-0.013330</td>\n",
       "      <td>-1.0</td>\n",
       "      <td>1.000000</td>\n",
       "      <td>-1.0</td>\n",
       "      <td>-0.997595</td>\n",
       "      <td>...</td>\n",
       "      <td>0.999529</td>\n",
       "      <td>0.999483</td>\n",
       "      <td>0.999845</td>\n",
       "      <td>0.996474</td>\n",
       "      <td>0.984062</td>\n",
       "      <td>-0.999926</td>\n",
       "      <td>0.988476</td>\n",
       "      <td>-0.999976</td>\n",
       "      <td>-1.0</td>\n",
       "      <td>0</td>\n",
       "    </tr>\n",
       "    <tr>\n",
       "      <th>3</th>\n",
       "      <td>1.000000</td>\n",
       "      <td>-1.0</td>\n",
       "      <td>0.967554</td>\n",
       "      <td>-1.000000</td>\n",
       "      <td>-1.000000</td>\n",
       "      <td>0.998979</td>\n",
       "      <td>-1.0</td>\n",
       "      <td>1.000000</td>\n",
       "      <td>-1.0</td>\n",
       "      <td>-0.755809</td>\n",
       "      <td>...</td>\n",
       "      <td>1.000000</td>\n",
       "      <td>1.000000</td>\n",
       "      <td>1.000000</td>\n",
       "      <td>0.999999</td>\n",
       "      <td>-1.000000</td>\n",
       "      <td>-0.998805</td>\n",
       "      <td>0.778614</td>\n",
       "      <td>-0.801380</td>\n",
       "      <td>-1.0</td>\n",
       "      <td>0</td>\n",
       "    </tr>\n",
       "    <tr>\n",
       "      <th>4</th>\n",
       "      <td>0.996190</td>\n",
       "      <td>-1.0</td>\n",
       "      <td>-0.993918</td>\n",
       "      <td>-0.999996</td>\n",
       "      <td>-0.667939</td>\n",
       "      <td>0.661817</td>\n",
       "      <td>-1.0</td>\n",
       "      <td>0.999995</td>\n",
       "      <td>-1.0</td>\n",
       "      <td>-0.999733</td>\n",
       "      <td>...</td>\n",
       "      <td>0.982959</td>\n",
       "      <td>0.959317</td>\n",
       "      <td>0.999700</td>\n",
       "      <td>0.997838</td>\n",
       "      <td>0.998755</td>\n",
       "      <td>-0.999976</td>\n",
       "      <td>-0.348369</td>\n",
       "      <td>-0.999975</td>\n",
       "      <td>-1.0</td>\n",
       "      <td>0</td>\n",
       "    </tr>\n",
       "  </tbody>\n",
       "</table>\n",
       "<p>5 rows × 21 columns</p>\n",
       "</div>"
      ],
      "text/plain": [
       "   Feature_0  Feature_1  Feature_2  Feature_3  Feature_4  Feature_5  \\\n",
       "0   0.999966       -1.0  -0.725891  -1.000000  -1.000000   0.998593   \n",
       "1   0.999729       -1.0  -0.999974  -1.000000  -0.999851   0.583831   \n",
       "2   0.999781       -1.0  -0.999994  -1.000000  -0.999959  -0.013330   \n",
       "3   1.000000       -1.0   0.967554  -1.000000  -1.000000   0.998979   \n",
       "4   0.996190       -1.0  -0.993918  -0.999996  -0.667939   0.661817   \n",
       "\n",
       "   Feature_6  Feature_7  Feature_8  Feature_9   ...    Feature_11  Feature_12  \\\n",
       "0       -1.0   1.000000       -1.0   0.033243   ...      1.000000    1.000000   \n",
       "1       -1.0   1.000000       -1.0  -0.999871   ...      0.999262    0.998369   \n",
       "2       -1.0   1.000000       -1.0  -0.997595   ...      0.999529    0.999483   \n",
       "3       -1.0   1.000000       -1.0  -0.755809   ...      1.000000    1.000000   \n",
       "4       -1.0   0.999995       -1.0  -0.999733   ...      0.982959    0.959317   \n",
       "\n",
       "   Feature_13  Feature_14  Feature_15  Feature_16  Feature_17  Feature_18  \\\n",
       "0    1.000000    0.999946   -0.999601   -0.999949   -0.567437   -0.756753   \n",
       "1    0.999971    0.998483    0.997352   -0.999977    0.745938   -0.999997   \n",
       "2    0.999845    0.996474    0.984062   -0.999926    0.988476   -0.999976   \n",
       "3    1.000000    0.999999   -1.000000   -0.998805    0.778614   -0.801380   \n",
       "4    0.999700    0.997838    0.998755   -0.999976   -0.348369   -0.999975   \n",
       "\n",
       "   Feature_19  target  \n",
       "0        -1.0       0  \n",
       "1        -1.0       0  \n",
       "2        -1.0       0  \n",
       "3        -1.0       0  \n",
       "4        -1.0       0  \n",
       "\n",
       "[5 rows x 21 columns]"
      ]
     },
     "execution_count": 485,
     "metadata": {},
     "output_type": "execute_result"
    }
   ],
   "source": [
    "predict_test.head()"
   ]
  },
  {
   "cell_type": "markdown",
   "metadata": {},
   "source": [
    "### Linear classifier"
   ]
  },
  {
   "cell_type": "code",
   "execution_count": null,
   "metadata": {},
   "outputs": [],
   "source": []
  }
 ],
 "metadata": {
  "kernelspec": {
   "display_name": "Python 3",
   "language": "python",
   "name": "python3"
  },
  "language_info": {
   "codemirror_mode": {
    "name": "ipython",
    "version": 3
   },
   "file_extension": ".py",
   "mimetype": "text/x-python",
   "name": "python",
   "nbconvert_exporter": "python",
   "pygments_lexer": "ipython3",
   "version": "3.7.1"
  }
 },
 "nbformat": 4,
 "nbformat_minor": 2
}
