{
 "cells": [
  {
   "cell_type": "markdown",
   "metadata": {},
   "source": [
    "# Cervical Cancer Risk Classification – Analysis"
   ]
  },
  {
   "cell_type": "code",
   "execution_count": 359,
   "metadata": {},
   "outputs": [],
   "source": [
    "import os\n",
    "import gc\n",
    "import numpy as np # linear algebra\n",
    "import pandas as pd # data processing, CSV file I/O (e.g. pd.read_csv)\n",
    "import seaborn as sns\n",
    "import matplotlib.pyplot as plt\n",
    "%matplotlib inline\n",
    "from sklearn import metrics\n",
    "from sklearn.metrics import roc_auc_score\n",
    "from sklearn.impute import SimpleImputer\n",
    "from sklearn.metrics import accuracy_score\n",
    "from sklearn.preprocessing import MinMaxScaler\n",
    "from keras import losses\n",
    "from keras.utils import to_categorical\n",
    "from keras.layers import Input, Dense, Dropout\n",
    "from keras.models import Model, Sequential \n",
    "from keras.optimizers import Adam\n",
    "from keras.utils.np_utils import to_categorical\n",
    "from sklearn.model_selection import train_test_split\n",
    "from sklearn.ensemble import ExtraTreesClassifier\n",
    "from sklearn import preprocessing\n",
    "from keras import backend as K\n",
    "from keras.callbacks import Callback\n",
    "import warnings\n",
    "warnings.filterwarnings('ignore')\n"
   ]
  },
  {
   "cell_type": "markdown",
   "metadata": {},
   "source": [
    "### Data Exploration"
   ]
  },
  {
   "cell_type": "code",
   "execution_count": 360,
   "metadata": {},
   "outputs": [],
   "source": [
    "data = pd.read_csv(\"/Users/cynthiamasetto/Documents/Data-Science-Project/2. Cervical Cancer Risk Classification/kag_risk_factors_cervical_cancer.csv\")\n"
   ]
  },
  {
   "cell_type": "code",
   "execution_count": 361,
   "metadata": {},
   "outputs": [
    {
     "data": {
      "text/html": [
       "<div>\n",
       "<style scoped>\n",
       "    .dataframe tbody tr th:only-of-type {\n",
       "        vertical-align: middle;\n",
       "    }\n",
       "\n",
       "    .dataframe tbody tr th {\n",
       "        vertical-align: top;\n",
       "    }\n",
       "\n",
       "    .dataframe thead th {\n",
       "        text-align: right;\n",
       "    }\n",
       "</style>\n",
       "<table border=\"1\" class=\"dataframe\">\n",
       "  <thead>\n",
       "    <tr style=\"text-align: right;\">\n",
       "      <th></th>\n",
       "      <th>Age</th>\n",
       "      <th>Number of sexual partners</th>\n",
       "      <th>First sexual intercourse</th>\n",
       "      <th>Num of pregnancies</th>\n",
       "      <th>Smokes</th>\n",
       "      <th>Smokes (years)</th>\n",
       "      <th>Smokes (packs/year)</th>\n",
       "      <th>Hormonal Contraceptives</th>\n",
       "      <th>Hormonal Contraceptives (years)</th>\n",
       "      <th>IUD</th>\n",
       "      <th>...</th>\n",
       "      <th>STDs: Time since first diagnosis</th>\n",
       "      <th>STDs: Time since last diagnosis</th>\n",
       "      <th>Dx:Cancer</th>\n",
       "      <th>Dx:CIN</th>\n",
       "      <th>Dx:HPV</th>\n",
       "      <th>Dx</th>\n",
       "      <th>Hinselmann</th>\n",
       "      <th>Schiller</th>\n",
       "      <th>Citology</th>\n",
       "      <th>Biopsy</th>\n",
       "    </tr>\n",
       "  </thead>\n",
       "  <tbody>\n",
       "    <tr>\n",
       "      <th>0</th>\n",
       "      <td>18</td>\n",
       "      <td>4.0</td>\n",
       "      <td>15.0</td>\n",
       "      <td>1.0</td>\n",
       "      <td>0.0</td>\n",
       "      <td>0.0</td>\n",
       "      <td>0.0</td>\n",
       "      <td>0.0</td>\n",
       "      <td>0.0</td>\n",
       "      <td>0.0</td>\n",
       "      <td>...</td>\n",
       "      <td>?</td>\n",
       "      <td>?</td>\n",
       "      <td>0</td>\n",
       "      <td>0</td>\n",
       "      <td>0</td>\n",
       "      <td>0</td>\n",
       "      <td>0</td>\n",
       "      <td>0</td>\n",
       "      <td>0</td>\n",
       "      <td>0</td>\n",
       "    </tr>\n",
       "    <tr>\n",
       "      <th>1</th>\n",
       "      <td>15</td>\n",
       "      <td>1.0</td>\n",
       "      <td>14.0</td>\n",
       "      <td>1.0</td>\n",
       "      <td>0.0</td>\n",
       "      <td>0.0</td>\n",
       "      <td>0.0</td>\n",
       "      <td>0.0</td>\n",
       "      <td>0.0</td>\n",
       "      <td>0.0</td>\n",
       "      <td>...</td>\n",
       "      <td>?</td>\n",
       "      <td>?</td>\n",
       "      <td>0</td>\n",
       "      <td>0</td>\n",
       "      <td>0</td>\n",
       "      <td>0</td>\n",
       "      <td>0</td>\n",
       "      <td>0</td>\n",
       "      <td>0</td>\n",
       "      <td>0</td>\n",
       "    </tr>\n",
       "    <tr>\n",
       "      <th>2</th>\n",
       "      <td>34</td>\n",
       "      <td>1.0</td>\n",
       "      <td>?</td>\n",
       "      <td>1.0</td>\n",
       "      <td>0.0</td>\n",
       "      <td>0.0</td>\n",
       "      <td>0.0</td>\n",
       "      <td>0.0</td>\n",
       "      <td>0.0</td>\n",
       "      <td>0.0</td>\n",
       "      <td>...</td>\n",
       "      <td>?</td>\n",
       "      <td>?</td>\n",
       "      <td>0</td>\n",
       "      <td>0</td>\n",
       "      <td>0</td>\n",
       "      <td>0</td>\n",
       "      <td>0</td>\n",
       "      <td>0</td>\n",
       "      <td>0</td>\n",
       "      <td>0</td>\n",
       "    </tr>\n",
       "    <tr>\n",
       "      <th>3</th>\n",
       "      <td>52</td>\n",
       "      <td>5.0</td>\n",
       "      <td>16.0</td>\n",
       "      <td>4.0</td>\n",
       "      <td>1.0</td>\n",
       "      <td>37.0</td>\n",
       "      <td>37.0</td>\n",
       "      <td>1.0</td>\n",
       "      <td>3.0</td>\n",
       "      <td>0.0</td>\n",
       "      <td>...</td>\n",
       "      <td>?</td>\n",
       "      <td>?</td>\n",
       "      <td>1</td>\n",
       "      <td>0</td>\n",
       "      <td>1</td>\n",
       "      <td>0</td>\n",
       "      <td>0</td>\n",
       "      <td>0</td>\n",
       "      <td>0</td>\n",
       "      <td>0</td>\n",
       "    </tr>\n",
       "    <tr>\n",
       "      <th>4</th>\n",
       "      <td>46</td>\n",
       "      <td>3.0</td>\n",
       "      <td>21.0</td>\n",
       "      <td>4.0</td>\n",
       "      <td>0.0</td>\n",
       "      <td>0.0</td>\n",
       "      <td>0.0</td>\n",
       "      <td>1.0</td>\n",
       "      <td>15.0</td>\n",
       "      <td>0.0</td>\n",
       "      <td>...</td>\n",
       "      <td>?</td>\n",
       "      <td>?</td>\n",
       "      <td>0</td>\n",
       "      <td>0</td>\n",
       "      <td>0</td>\n",
       "      <td>0</td>\n",
       "      <td>0</td>\n",
       "      <td>0</td>\n",
       "      <td>0</td>\n",
       "      <td>0</td>\n",
       "    </tr>\n",
       "  </tbody>\n",
       "</table>\n",
       "<p>5 rows × 36 columns</p>\n",
       "</div>"
      ],
      "text/plain": [
       "   Age Number of sexual partners First sexual intercourse Num of pregnancies  \\\n",
       "0   18                       4.0                     15.0                1.0   \n",
       "1   15                       1.0                     14.0                1.0   \n",
       "2   34                       1.0                        ?                1.0   \n",
       "3   52                       5.0                     16.0                4.0   \n",
       "4   46                       3.0                     21.0                4.0   \n",
       "\n",
       "  Smokes Smokes (years) Smokes (packs/year) Hormonal Contraceptives  \\\n",
       "0    0.0            0.0                 0.0                     0.0   \n",
       "1    0.0            0.0                 0.0                     0.0   \n",
       "2    0.0            0.0                 0.0                     0.0   \n",
       "3    1.0           37.0                37.0                     1.0   \n",
       "4    0.0            0.0                 0.0                     1.0   \n",
       "\n",
       "  Hormonal Contraceptives (years)  IUD  ...    \\\n",
       "0                             0.0  0.0  ...     \n",
       "1                             0.0  0.0  ...     \n",
       "2                             0.0  0.0  ...     \n",
       "3                             3.0  0.0  ...     \n",
       "4                            15.0  0.0  ...     \n",
       "\n",
       "  STDs: Time since first diagnosis STDs: Time since last diagnosis Dx:Cancer  \\\n",
       "0                                ?                               ?         0   \n",
       "1                                ?                               ?         0   \n",
       "2                                ?                               ?         0   \n",
       "3                                ?                               ?         1   \n",
       "4                                ?                               ?         0   \n",
       "\n",
       "  Dx:CIN Dx:HPV Dx Hinselmann Schiller Citology Biopsy  \n",
       "0      0      0  0          0        0        0      0  \n",
       "1      0      0  0          0        0        0      0  \n",
       "2      0      0  0          0        0        0      0  \n",
       "3      0      1  0          0        0        0      0  \n",
       "4      0      0  0          0        0        0      0  \n",
       "\n",
       "[5 rows x 36 columns]"
      ]
     },
     "execution_count": 361,
     "metadata": {},
     "output_type": "execute_result"
    }
   ],
   "source": [
    "data.head()"
   ]
  },
  {
   "cell_type": "code",
   "execution_count": 362,
   "metadata": {},
   "outputs": [
    {
     "name": "stdout",
     "output_type": "stream",
     "text": [
      "<class 'pandas.core.frame.DataFrame'>\n",
      "RangeIndex: 858 entries, 0 to 857\n",
      "Data columns (total 36 columns):\n",
      "Age                                   858 non-null int64\n",
      "Number of sexual partners             858 non-null object\n",
      "First sexual intercourse              858 non-null object\n",
      "Num of pregnancies                    858 non-null object\n",
      "Smokes                                858 non-null object\n",
      "Smokes (years)                        858 non-null object\n",
      "Smokes (packs/year)                   858 non-null object\n",
      "Hormonal Contraceptives               858 non-null object\n",
      "Hormonal Contraceptives (years)       858 non-null object\n",
      "IUD                                   858 non-null object\n",
      "IUD (years)                           858 non-null object\n",
      "STDs                                  858 non-null object\n",
      "STDs (number)                         858 non-null object\n",
      "STDs:condylomatosis                   858 non-null object\n",
      "STDs:cervical condylomatosis          858 non-null object\n",
      "STDs:vaginal condylomatosis           858 non-null object\n",
      "STDs:vulvo-perineal condylomatosis    858 non-null object\n",
      "STDs:syphilis                         858 non-null object\n",
      "STDs:pelvic inflammatory disease      858 non-null object\n",
      "STDs:genital herpes                   858 non-null object\n",
      "STDs:molluscum contagiosum            858 non-null object\n",
      "STDs:AIDS                             858 non-null object\n",
      "STDs:HIV                              858 non-null object\n",
      "STDs:Hepatitis B                      858 non-null object\n",
      "STDs:HPV                              858 non-null object\n",
      "STDs: Number of diagnosis             858 non-null int64\n",
      "STDs: Time since first diagnosis      858 non-null object\n",
      "STDs: Time since last diagnosis       858 non-null object\n",
      "Dx:Cancer                             858 non-null int64\n",
      "Dx:CIN                                858 non-null int64\n",
      "Dx:HPV                                858 non-null int64\n",
      "Dx                                    858 non-null int64\n",
      "Hinselmann                            858 non-null int64\n",
      "Schiller                              858 non-null int64\n",
      "Citology                              858 non-null int64\n",
      "Biopsy                                858 non-null int64\n",
      "dtypes: int64(10), object(26)\n",
      "memory usage: 241.4+ KB\n"
     ]
    }
   ],
   "source": [
    "data.info()"
   ]
  },
  {
   "cell_type": "code",
   "execution_count": 363,
   "metadata": {},
   "outputs": [
    {
     "data": {
      "text/plain": [
       "(858, 36)"
      ]
     },
     "execution_count": 363,
     "metadata": {},
     "output_type": "execute_result"
    }
   ],
   "source": [
    "data.shape"
   ]
  },
  {
   "cell_type": "code",
   "execution_count": 364,
   "metadata": {},
   "outputs": [
    {
     "data": {
      "text/html": [
       "<div>\n",
       "<style scoped>\n",
       "    .dataframe tbody tr th:only-of-type {\n",
       "        vertical-align: middle;\n",
       "    }\n",
       "\n",
       "    .dataframe tbody tr th {\n",
       "        vertical-align: top;\n",
       "    }\n",
       "\n",
       "    .dataframe thead th {\n",
       "        text-align: right;\n",
       "    }\n",
       "</style>\n",
       "<table border=\"1\" class=\"dataframe\">\n",
       "  <thead>\n",
       "    <tr style=\"text-align: right;\">\n",
       "      <th></th>\n",
       "      <th>Age</th>\n",
       "      <th>STDs: Number of diagnosis</th>\n",
       "      <th>Dx:Cancer</th>\n",
       "      <th>Dx:CIN</th>\n",
       "      <th>Dx:HPV</th>\n",
       "      <th>Dx</th>\n",
       "      <th>Hinselmann</th>\n",
       "      <th>Schiller</th>\n",
       "      <th>Citology</th>\n",
       "      <th>Biopsy</th>\n",
       "    </tr>\n",
       "  </thead>\n",
       "  <tbody>\n",
       "    <tr>\n",
       "      <th>count</th>\n",
       "      <td>858.000000</td>\n",
       "      <td>858.000000</td>\n",
       "      <td>858.000000</td>\n",
       "      <td>858.000000</td>\n",
       "      <td>858.000000</td>\n",
       "      <td>858.000000</td>\n",
       "      <td>858.000000</td>\n",
       "      <td>858.000000</td>\n",
       "      <td>858.000000</td>\n",
       "      <td>858.000000</td>\n",
       "    </tr>\n",
       "    <tr>\n",
       "      <th>mean</th>\n",
       "      <td>26.820513</td>\n",
       "      <td>0.087413</td>\n",
       "      <td>0.020979</td>\n",
       "      <td>0.010490</td>\n",
       "      <td>0.020979</td>\n",
       "      <td>0.027972</td>\n",
       "      <td>0.040793</td>\n",
       "      <td>0.086247</td>\n",
       "      <td>0.051282</td>\n",
       "      <td>0.064103</td>\n",
       "    </tr>\n",
       "    <tr>\n",
       "      <th>std</th>\n",
       "      <td>8.497948</td>\n",
       "      <td>0.302545</td>\n",
       "      <td>0.143398</td>\n",
       "      <td>0.101939</td>\n",
       "      <td>0.143398</td>\n",
       "      <td>0.164989</td>\n",
       "      <td>0.197925</td>\n",
       "      <td>0.280892</td>\n",
       "      <td>0.220701</td>\n",
       "      <td>0.245078</td>\n",
       "    </tr>\n",
       "    <tr>\n",
       "      <th>min</th>\n",
       "      <td>13.000000</td>\n",
       "      <td>0.000000</td>\n",
       "      <td>0.000000</td>\n",
       "      <td>0.000000</td>\n",
       "      <td>0.000000</td>\n",
       "      <td>0.000000</td>\n",
       "      <td>0.000000</td>\n",
       "      <td>0.000000</td>\n",
       "      <td>0.000000</td>\n",
       "      <td>0.000000</td>\n",
       "    </tr>\n",
       "    <tr>\n",
       "      <th>25%</th>\n",
       "      <td>20.000000</td>\n",
       "      <td>0.000000</td>\n",
       "      <td>0.000000</td>\n",
       "      <td>0.000000</td>\n",
       "      <td>0.000000</td>\n",
       "      <td>0.000000</td>\n",
       "      <td>0.000000</td>\n",
       "      <td>0.000000</td>\n",
       "      <td>0.000000</td>\n",
       "      <td>0.000000</td>\n",
       "    </tr>\n",
       "    <tr>\n",
       "      <th>50%</th>\n",
       "      <td>25.000000</td>\n",
       "      <td>0.000000</td>\n",
       "      <td>0.000000</td>\n",
       "      <td>0.000000</td>\n",
       "      <td>0.000000</td>\n",
       "      <td>0.000000</td>\n",
       "      <td>0.000000</td>\n",
       "      <td>0.000000</td>\n",
       "      <td>0.000000</td>\n",
       "      <td>0.000000</td>\n",
       "    </tr>\n",
       "    <tr>\n",
       "      <th>75%</th>\n",
       "      <td>32.000000</td>\n",
       "      <td>0.000000</td>\n",
       "      <td>0.000000</td>\n",
       "      <td>0.000000</td>\n",
       "      <td>0.000000</td>\n",
       "      <td>0.000000</td>\n",
       "      <td>0.000000</td>\n",
       "      <td>0.000000</td>\n",
       "      <td>0.000000</td>\n",
       "      <td>0.000000</td>\n",
       "    </tr>\n",
       "    <tr>\n",
       "      <th>max</th>\n",
       "      <td>84.000000</td>\n",
       "      <td>3.000000</td>\n",
       "      <td>1.000000</td>\n",
       "      <td>1.000000</td>\n",
       "      <td>1.000000</td>\n",
       "      <td>1.000000</td>\n",
       "      <td>1.000000</td>\n",
       "      <td>1.000000</td>\n",
       "      <td>1.000000</td>\n",
       "      <td>1.000000</td>\n",
       "    </tr>\n",
       "  </tbody>\n",
       "</table>\n",
       "</div>"
      ],
      "text/plain": [
       "              Age  STDs: Number of diagnosis   Dx:Cancer      Dx:CIN  \\\n",
       "count  858.000000                 858.000000  858.000000  858.000000   \n",
       "mean    26.820513                   0.087413    0.020979    0.010490   \n",
       "std      8.497948                   0.302545    0.143398    0.101939   \n",
       "min     13.000000                   0.000000    0.000000    0.000000   \n",
       "25%     20.000000                   0.000000    0.000000    0.000000   \n",
       "50%     25.000000                   0.000000    0.000000    0.000000   \n",
       "75%     32.000000                   0.000000    0.000000    0.000000   \n",
       "max     84.000000                   3.000000    1.000000    1.000000   \n",
       "\n",
       "           Dx:HPV          Dx  Hinselmann    Schiller    Citology      Biopsy  \n",
       "count  858.000000  858.000000  858.000000  858.000000  858.000000  858.000000  \n",
       "mean     0.020979    0.027972    0.040793    0.086247    0.051282    0.064103  \n",
       "std      0.143398    0.164989    0.197925    0.280892    0.220701    0.245078  \n",
       "min      0.000000    0.000000    0.000000    0.000000    0.000000    0.000000  \n",
       "25%      0.000000    0.000000    0.000000    0.000000    0.000000    0.000000  \n",
       "50%      0.000000    0.000000    0.000000    0.000000    0.000000    0.000000  \n",
       "75%      0.000000    0.000000    0.000000    0.000000    0.000000    0.000000  \n",
       "max      1.000000    1.000000    1.000000    1.000000    1.000000    1.000000  "
      ]
     },
     "execution_count": 364,
     "metadata": {},
     "output_type": "execute_result"
    }
   ],
   "source": [
    "data.describe()"
   ]
  },
  {
   "cell_type": "code",
   "execution_count": 365,
   "metadata": {},
   "outputs": [
    {
     "data": {
      "text/plain": [
       "Age                                   False\n",
       "Number of sexual partners             False\n",
       "First sexual intercourse              False\n",
       "Num of pregnancies                    False\n",
       "Smokes                                False\n",
       "Smokes (years)                        False\n",
       "Smokes (packs/year)                   False\n",
       "Hormonal Contraceptives               False\n",
       "Hormonal Contraceptives (years)       False\n",
       "IUD                                   False\n",
       "IUD (years)                           False\n",
       "STDs                                  False\n",
       "STDs (number)                         False\n",
       "STDs:condylomatosis                   False\n",
       "STDs:cervical condylomatosis          False\n",
       "STDs:vaginal condylomatosis           False\n",
       "STDs:vulvo-perineal condylomatosis    False\n",
       "STDs:syphilis                         False\n",
       "STDs:pelvic inflammatory disease      False\n",
       "STDs:genital herpes                   False\n",
       "STDs:molluscum contagiosum            False\n",
       "STDs:AIDS                             False\n",
       "STDs:HIV                              False\n",
       "STDs:Hepatitis B                      False\n",
       "STDs:HPV                              False\n",
       "STDs: Number of diagnosis             False\n",
       "STDs: Time since first diagnosis      False\n",
       "STDs: Time since last diagnosis       False\n",
       "Dx:Cancer                             False\n",
       "Dx:CIN                                False\n",
       "Dx:HPV                                False\n",
       "Dx                                    False\n",
       "Hinselmann                            False\n",
       "Schiller                              False\n",
       "Citology                              False\n",
       "Biopsy                                False\n",
       "dtype: bool"
      ]
     },
     "execution_count": 365,
     "metadata": {},
     "output_type": "execute_result"
    }
   ],
   "source": [
    "data.isna().any()"
   ]
  },
  {
   "cell_type": "markdown",
   "metadata": {},
   "source": [
    "Because the data has been analysed before there's no need to clean the data"
   ]
  },
  {
   "cell_type": "code",
   "execution_count": 366,
   "metadata": {},
   "outputs": [
    {
     "data": {
      "text/plain": [
       "<matplotlib.axes._subplots.AxesSubplot at 0x1a3a43e9e8>"
      ]
     },
     "execution_count": 366,
     "metadata": {},
     "output_type": "execute_result"
    },
    {
     "data": {
      "image/png": "[encoded data removed]",
      "text/plain": [
       "<Figure size 432x288 with 1 Axes>"
      ]
     },
     "metadata": {
      "needs_background": "light"
     },
     "output_type": "display_data"
    }
   ],
   "source": [
    "sns.countplot(data['Dx:Cancer'])"
   ]
  },
  {
   "cell_type": "code",
   "execution_count": 367,
   "metadata": {},
   "outputs": [
    {
     "data": {
      "text/plain": [
       "<matplotlib.axes._subplots.AxesSubplot at 0x1a398ccfd0>"
      ]
     },
     "execution_count": 367,
     "metadata": {},
     "output_type": "execute_result"
    },
    {
     "data": {
      "image/png": "[encoded data removed]",
      "text/plain": [
       "<Figure size 432x288 with 1 Axes>"
      ]
     },
     "metadata": {
      "needs_background": "light"
     },
     "output_type": "display_data"
    }
   ],
   "source": [
    "#sns.distplot(data['V1'], kde=False, rug=True);\n",
    "sns.distplot(data['Age'])"
   ]
  },
  {
   "cell_type": "code",
   "execution_count": 368,
   "metadata": {},
   "outputs": [
    {
     "data": {
      "text/plain": [
       "(858, 36)"
      ]
     },
     "execution_count": 368,
     "metadata": {},
     "output_type": "execute_result"
    }
   ],
   "source": [
    "data.rename(columns={'Dx:Cancer':'Class'}, inplace=True)\n",
    "\n",
    "data.shape"
   ]
  },
  {
   "cell_type": "code",
   "execution_count": 369,
   "metadata": {},
   "outputs": [],
   "source": [
    "data = data.drop(columns={'STDs: Time since first diagnosis','STDs: Time since last diagnosis' })"
   ]
  },
  {
   "cell_type": "markdown",
   "metadata": {},
   "source": [
    "There are no NA but there are special symbols like ? that needs to be replace, for that we are going to take the mean for the variables and replace the values"
   ]
  },
  {
   "cell_type": "code",
   "execution_count": 370,
   "metadata": {},
   "outputs": [],
   "source": [
    "data = data.replace('?',)"
   ]
  },
  {
   "cell_type": "code",
   "execution_count": 371,
   "metadata": {},
   "outputs": [
    {
     "data": {
      "text/html": [
       "<div>\n",
       "<style scoped>\n",
       "    .dataframe tbody tr th:only-of-type {\n",
       "        vertical-align: middle;\n",
       "    }\n",
       "\n",
       "    .dataframe tbody tr th {\n",
       "        vertical-align: top;\n",
       "    }\n",
       "\n",
       "    .dataframe thead th {\n",
       "        text-align: right;\n",
       "    }\n",
       "</style>\n",
       "<table border=\"1\" class=\"dataframe\">\n",
       "  <thead>\n",
       "    <tr style=\"text-align: right;\">\n",
       "      <th></th>\n",
       "      <th>Age</th>\n",
       "      <th>Number of sexual partners</th>\n",
       "      <th>First sexual intercourse</th>\n",
       "      <th>Num of pregnancies</th>\n",
       "      <th>Smokes</th>\n",
       "      <th>Smokes (years)</th>\n",
       "      <th>Smokes (packs/year)</th>\n",
       "      <th>Hormonal Contraceptives</th>\n",
       "      <th>Hormonal Contraceptives (years)</th>\n",
       "      <th>IUD</th>\n",
       "      <th>...</th>\n",
       "      <th>STDs:HPV</th>\n",
       "      <th>STDs: Number of diagnosis</th>\n",
       "      <th>Class</th>\n",
       "      <th>Dx:CIN</th>\n",
       "      <th>Dx:HPV</th>\n",
       "      <th>Dx</th>\n",
       "      <th>Hinselmann</th>\n",
       "      <th>Schiller</th>\n",
       "      <th>Citology</th>\n",
       "      <th>Biopsy</th>\n",
       "    </tr>\n",
       "  </thead>\n",
       "  <tbody>\n",
       "    <tr>\n",
       "      <th>0</th>\n",
       "      <td>18</td>\n",
       "      <td>4.0</td>\n",
       "      <td>15.0</td>\n",
       "      <td>1.0</td>\n",
       "      <td>0.0</td>\n",
       "      <td>0.0</td>\n",
       "      <td>0.0</td>\n",
       "      <td>0.0</td>\n",
       "      <td>0.0</td>\n",
       "      <td>0.0</td>\n",
       "      <td>...</td>\n",
       "      <td>0.0</td>\n",
       "      <td>0</td>\n",
       "      <td>0</td>\n",
       "      <td>0</td>\n",
       "      <td>0</td>\n",
       "      <td>0</td>\n",
       "      <td>0</td>\n",
       "      <td>0</td>\n",
       "      <td>0</td>\n",
       "      <td>0</td>\n",
       "    </tr>\n",
       "    <tr>\n",
       "      <th>1</th>\n",
       "      <td>15</td>\n",
       "      <td>1.0</td>\n",
       "      <td>14.0</td>\n",
       "      <td>1.0</td>\n",
       "      <td>0.0</td>\n",
       "      <td>0.0</td>\n",
       "      <td>0.0</td>\n",
       "      <td>0.0</td>\n",
       "      <td>0.0</td>\n",
       "      <td>0.0</td>\n",
       "      <td>...</td>\n",
       "      <td>0.0</td>\n",
       "      <td>0</td>\n",
       "      <td>0</td>\n",
       "      <td>0</td>\n",
       "      <td>0</td>\n",
       "      <td>0</td>\n",
       "      <td>0</td>\n",
       "      <td>0</td>\n",
       "      <td>0</td>\n",
       "      <td>0</td>\n",
       "    </tr>\n",
       "    <tr>\n",
       "      <th>2</th>\n",
       "      <td>34</td>\n",
       "      <td>1.0</td>\n",
       "      <td>14.0</td>\n",
       "      <td>1.0</td>\n",
       "      <td>0.0</td>\n",
       "      <td>0.0</td>\n",
       "      <td>0.0</td>\n",
       "      <td>0.0</td>\n",
       "      <td>0.0</td>\n",
       "      <td>0.0</td>\n",
       "      <td>...</td>\n",
       "      <td>0.0</td>\n",
       "      <td>0</td>\n",
       "      <td>0</td>\n",
       "      <td>0</td>\n",
       "      <td>0</td>\n",
       "      <td>0</td>\n",
       "      <td>0</td>\n",
       "      <td>0</td>\n",
       "      <td>0</td>\n",
       "      <td>0</td>\n",
       "    </tr>\n",
       "    <tr>\n",
       "      <th>3</th>\n",
       "      <td>52</td>\n",
       "      <td>5.0</td>\n",
       "      <td>16.0</td>\n",
       "      <td>4.0</td>\n",
       "      <td>1.0</td>\n",
       "      <td>37.0</td>\n",
       "      <td>37.0</td>\n",
       "      <td>1.0</td>\n",
       "      <td>3.0</td>\n",
       "      <td>0.0</td>\n",
       "      <td>...</td>\n",
       "      <td>0.0</td>\n",
       "      <td>0</td>\n",
       "      <td>1</td>\n",
       "      <td>0</td>\n",
       "      <td>1</td>\n",
       "      <td>0</td>\n",
       "      <td>0</td>\n",
       "      <td>0</td>\n",
       "      <td>0</td>\n",
       "      <td>0</td>\n",
       "    </tr>\n",
       "    <tr>\n",
       "      <th>4</th>\n",
       "      <td>46</td>\n",
       "      <td>3.0</td>\n",
       "      <td>21.0</td>\n",
       "      <td>4.0</td>\n",
       "      <td>0.0</td>\n",
       "      <td>0.0</td>\n",
       "      <td>0.0</td>\n",
       "      <td>1.0</td>\n",
       "      <td>15.0</td>\n",
       "      <td>0.0</td>\n",
       "      <td>...</td>\n",
       "      <td>0.0</td>\n",
       "      <td>0</td>\n",
       "      <td>0</td>\n",
       "      <td>0</td>\n",
       "      <td>0</td>\n",
       "      <td>0</td>\n",
       "      <td>0</td>\n",
       "      <td>0</td>\n",
       "      <td>0</td>\n",
       "      <td>0</td>\n",
       "    </tr>\n",
       "  </tbody>\n",
       "</table>\n",
       "<p>5 rows × 34 columns</p>\n",
       "</div>"
      ],
      "text/plain": [
       "   Age Number of sexual partners First sexual intercourse Num of pregnancies  \\\n",
       "0   18                       4.0                     15.0                1.0   \n",
       "1   15                       1.0                     14.0                1.0   \n",
       "2   34                       1.0                     14.0                1.0   \n",
       "3   52                       5.0                     16.0                4.0   \n",
       "4   46                       3.0                     21.0                4.0   \n",
       "\n",
       "  Smokes Smokes (years) Smokes (packs/year) Hormonal Contraceptives  \\\n",
       "0    0.0            0.0                 0.0                     0.0   \n",
       "1    0.0            0.0                 0.0                     0.0   \n",
       "2    0.0            0.0                 0.0                     0.0   \n",
       "3    1.0           37.0                37.0                     1.0   \n",
       "4    0.0            0.0                 0.0                     1.0   \n",
       "\n",
       "  Hormonal Contraceptives (years)  IUD  ...   STDs:HPV  \\\n",
       "0                             0.0  0.0  ...        0.0   \n",
       "1                             0.0  0.0  ...        0.0   \n",
       "2                             0.0  0.0  ...        0.0   \n",
       "3                             3.0  0.0  ...        0.0   \n",
       "4                            15.0  0.0  ...        0.0   \n",
       "\n",
       "  STDs: Number of diagnosis Class Dx:CIN Dx:HPV Dx Hinselmann Schiller  \\\n",
       "0                         0     0      0      0  0          0        0   \n",
       "1                         0     0      0      0  0          0        0   \n",
       "2                         0     0      0      0  0          0        0   \n",
       "3                         0     1      0      1  0          0        0   \n",
       "4                         0     0      0      0  0          0        0   \n",
       "\n",
       "  Citology Biopsy  \n",
       "0        0      0  \n",
       "1        0      0  \n",
       "2        0      0  \n",
       "3        0      0  \n",
       "4        0      0  \n",
       "\n",
       "[5 rows x 34 columns]"
      ]
     },
     "execution_count": 371,
     "metadata": {},
     "output_type": "execute_result"
    }
   ],
   "source": [
    "data.head()"
   ]
  },
  {
   "cell_type": "code",
   "execution_count": 372,
   "metadata": {},
   "outputs": [
    {
     "name": "stdout",
     "output_type": "stream",
     "text": [
      "Cancer\n",
      "count    18.000000\n",
      "mean     33.222222\n",
      "std       8.235901\n",
      "min      19.000000\n",
      "25%      27.500000\n",
      "50%      31.500000\n",
      "75%      38.000000\n",
      "max      52.000000\n",
      "Name: Age, dtype: float64\n",
      "\n",
      "Normal\n",
      "count    840.000000\n",
      "mean      26.683333\n",
      "std        8.455293\n",
      "min       13.000000\n",
      "25%       20.000000\n",
      "50%       25.000000\n",
      "75%       32.000000\n",
      "max       84.000000\n",
      "Name: Age, dtype: float64\n"
     ]
    }
   ],
   "source": [
    "print (\"Cancer\")\n",
    "print (data.Age[data.Class == 1].describe())\n",
    "print ()\n",
    "print (\"Normal\")\n",
    "print (data.Age[data.Class == 0].describe())"
   ]
  },
  {
   "cell_type": "code",
   "execution_count": 373,
   "metadata": {},
   "outputs": [
    {
     "data": {
      "image/png": "[encoded data removed]",
      "text/plain": [
       "<Figure size 864x288 with 2 Axes>"
      ]
     },
     "metadata": {
      "needs_background": "light"
     },
     "output_type": "display_data"
    }
   ],
   "source": [
    "f, (ax1, ax2) = plt.subplots(2, 1, sharex=True, figsize=(12,4))\n",
    "\n",
    "bins = 20\n",
    "\n",
    "ax1.hist(data.Age[data.Class == 1], bins = bins)\n",
    "ax1.set_title('Cancer')\n",
    "\n",
    "ax2.hist(data.Age[data.Class == 0], bins = bins)\n",
    "ax2.set_title('Normal')\n",
    "\n",
    "plt.xlabel('Age')\n",
    "plt.ylabel('Cancer')\n",
    "plt.yscale('log')\n",
    "plt.show()"
   ]
  },
  {
   "cell_type": "markdown",
   "metadata": {},
   "source": [
    "# Dimensionality reduction with autoencoders\n",
    "Reference: https://blog.keras.io/building-autoencoders-in-keras.html"
   ]
  },
  {
   "cell_type": "markdown",
   "metadata": {},
   "source": [
    "### First approach just for testing"
   ]
  },
  {
   "cell_type": "code",
   "execution_count": 452,
   "metadata": {},
   "outputs": [],
   "source": [
    "train = data\n"
   ]
  },
  {
   "cell_type": "code",
   "execution_count": 453,
   "metadata": {},
   "outputs": [],
   "source": [
    "X = train.drop(['Class'], axis = 1).values\n",
    "Y = train[\"Class\"].values"
   ]
  },
  {
   "cell_type": "code",
   "execution_count": 454,
   "metadata": {},
   "outputs": [],
   "source": [
    "## input layer \n",
    "input_layer = Input(shape=(X.shape[1],))\n",
    "\n",
    "## encoding part\n",
    "encoded = Dense(20, activation='tanh', activity_regularizer=regularizers.l1(10e-5))(input_layer)\n",
    "encoded = Dense(12, activation='relu')(encoded)\n",
    "\n",
    "## decoding part\n",
    "decoded = Dense(12, activation='tanh')(encoded)\n",
    "decoded = Dense(20, activation='tanh')(decoded)\n",
    "\n",
    "## output layer\n",
    "output_layer = Dense(X.shape[1], activation='relu')(decoded)"
   ]
  },
  {
   "cell_type": "code",
   "execution_count": 455,
   "metadata": {},
   "outputs": [],
   "source": [
    "autoencoder = Model(input_layer, output_layer)\n",
    "autoencoder.compile(optimizer=\"adadelta\", loss=\"mse\")"
   ]
  },
  {
   "cell_type": "code",
   "execution_count": 456,
   "metadata": {},
   "outputs": [],
   "source": [
    "x = train.drop([\"Class\"], axis=1)\n",
    "y = train[\"Class\"].values\n",
    "\n",
    "x = preprocessing.MinMaxScaler().fit_transform(x.values)\n",
    "#x_norm, x_fraud = x_scale[y == 0], x_scale[y == 1]"
   ]
  },
  {
   "cell_type": "code",
   "execution_count": 457,
   "metadata": {},
   "outputs": [
    {
     "name": "stdout",
     "output_type": "stream",
     "text": [
      "Train on 686 samples, validate on 172 samples\n",
      "Epoch 1/10\n",
      "686/686 [==============================] - 1s 2ms/step - loss: 0.1422 - val_loss: 0.1106\n",
      "Epoch 2/10\n",
      "686/686 [==============================] - 0s 21us/step - loss: 0.1370 - val_loss: 0.1067\n",
      "Epoch 3/10\n",
      "686/686 [==============================] - 0s 22us/step - loss: 0.1321 - val_loss: 0.1031\n",
      "Epoch 4/10\n",
      "686/686 [==============================] - 0s 21us/step - loss: 0.1269 - val_loss: 0.1000\n",
      "Epoch 5/10\n",
      "686/686 [==============================] - 0s 33us/step - loss: 0.1233 - val_loss: 0.0972\n",
      "Epoch 6/10\n",
      "686/686 [==============================] - 0s 25us/step - loss: 0.1194 - val_loss: 0.0945\n",
      "Epoch 7/10\n",
      "686/686 [==============================] - 0s 18us/step - loss: 0.1159 - val_loss: 0.0921\n",
      "Epoch 8/10\n",
      "686/686 [==============================] - 0s 31us/step - loss: 0.1126 - val_loss: 0.0898\n",
      "Epoch 9/10\n",
      "686/686 [==============================] - 0s 21us/step - loss: 0.1096 - val_loss: 0.0876\n",
      "Epoch 10/10\n",
      "686/686 [==============================] - 0s 26us/step - loss: 0.1061 - val_loss: 0.0856\n"
     ]
    },
    {
     "data": {
      "text/plain": [
       "<keras.callbacks.History at 0x1a3b8a5630>"
      ]
     },
     "execution_count": 457,
     "metadata": {},
     "output_type": "execute_result"
    }
   ],
   "source": [
    "autoencoder.fit(x, x, \n",
    "                batch_size = 256, epochs = 10, \n",
    "                shuffle = True, validation_split = 0.20)\n",
    "\n",
    "#change for x_Test"
   ]
  },
  {
   "cell_type": "code",
   "execution_count": 458,
   "metadata": {},
   "outputs": [],
   "source": [
    "features = Sequential()\n",
    "features.add(autoencoder.layers[0])\n",
    "features.add(autoencoder.layers[1])\n",
    "#features.add(autoencoder.layers[2])"
   ]
  },
  {
   "cell_type": "code",
   "execution_count": 459,
   "metadata": {},
   "outputs": [],
   "source": [
    "features.compile(optimizer=\"adadelta\", loss=\"mse\")"
   ]
  },
  {
   "cell_type": "code",
   "execution_count": 460,
   "metadata": {},
   "outputs": [],
   "source": [
    "#hidden_representation.fit(x,x)"
   ]
  },
  {
   "cell_type": "code",
   "execution_count": 461,
   "metadata": {},
   "outputs": [],
   "source": [
    "#Reduced features\n",
    "predict = pd.DataFrame(features.predict(x))"
   ]
  },
  {
   "cell_type": "code",
   "execution_count": 462,
   "metadata": {},
   "outputs": [
    {
     "data": {
      "text/plain": [
       "(858, 20)"
      ]
     },
     "execution_count": 462,
     "metadata": {},
     "output_type": "execute_result"
    }
   ],
   "source": [
    "predict.shape"
   ]
  },
  {
   "cell_type": "code",
   "execution_count": 463,
   "metadata": {},
   "outputs": [],
   "source": [
    "predict = predict.add_prefix('Feature_')"
   ]
  },
  {
   "cell_type": "code",
   "execution_count": 464,
   "metadata": {},
   "outputs": [],
   "source": [
    "predict['target'] = y"
   ]
  },
  {
   "cell_type": "code",
   "execution_count": 465,
   "metadata": {},
   "outputs": [
    {
     "data": {
      "text/html": [
       "<div>\n",
       "<style scoped>\n",
       "    .dataframe tbody tr th:only-of-type {\n",
       "        vertical-align: middle;\n",
       "    }\n",
       "\n",
       "    .dataframe tbody tr th {\n",
       "        vertical-align: top;\n",
       "    }\n",
       "\n",
       "    .dataframe thead th {\n",
       "        text-align: right;\n",
       "    }\n",
       "</style>\n",
       "<table border=\"1\" class=\"dataframe\">\n",
       "  <thead>\n",
       "    <tr style=\"text-align: right;\">\n",
       "      <th></th>\n",
       "      <th>Feature_0</th>\n",
       "      <th>Feature_1</th>\n",
       "      <th>Feature_2</th>\n",
       "      <th>Feature_3</th>\n",
       "      <th>Feature_4</th>\n",
       "      <th>Feature_5</th>\n",
       "      <th>Feature_6</th>\n",
       "      <th>Feature_7</th>\n",
       "      <th>Feature_8</th>\n",
       "      <th>Feature_9</th>\n",
       "      <th>...</th>\n",
       "      <th>Feature_11</th>\n",
       "      <th>Feature_12</th>\n",
       "      <th>Feature_13</th>\n",
       "      <th>Feature_14</th>\n",
       "      <th>Feature_15</th>\n",
       "      <th>Feature_16</th>\n",
       "      <th>Feature_17</th>\n",
       "      <th>Feature_18</th>\n",
       "      <th>Feature_19</th>\n",
       "      <th>target</th>\n",
       "    </tr>\n",
       "  </thead>\n",
       "  <tbody>\n",
       "    <tr>\n",
       "      <th>0</th>\n",
       "      <td>0.024420</td>\n",
       "      <td>-0.062213</td>\n",
       "      <td>0.003231</td>\n",
       "      <td>0.041097</td>\n",
       "      <td>-0.035613</td>\n",
       "      <td>0.050355</td>\n",
       "      <td>0.032992</td>\n",
       "      <td>-0.041599</td>\n",
       "      <td>-0.046418</td>\n",
       "      <td>0.036952</td>\n",
       "      <td>...</td>\n",
       "      <td>0.004646</td>\n",
       "      <td>-0.078036</td>\n",
       "      <td>0.124971</td>\n",
       "      <td>-0.006713</td>\n",
       "      <td>-0.077418</td>\n",
       "      <td>-0.078474</td>\n",
       "      <td>-0.069141</td>\n",
       "      <td>-0.079703</td>\n",
       "      <td>0.001507</td>\n",
       "      <td>0</td>\n",
       "    </tr>\n",
       "    <tr>\n",
       "      <th>1</th>\n",
       "      <td>0.001622</td>\n",
       "      <td>-0.029594</td>\n",
       "      <td>0.018541</td>\n",
       "      <td>0.058957</td>\n",
       "      <td>-0.011700</td>\n",
       "      <td>0.023560</td>\n",
       "      <td>0.007825</td>\n",
       "      <td>-0.012051</td>\n",
       "      <td>-0.071286</td>\n",
       "      <td>0.007558</td>\n",
       "      <td>...</td>\n",
       "      <td>0.022164</td>\n",
       "      <td>-0.072412</td>\n",
       "      <td>0.099467</td>\n",
       "      <td>-0.010646</td>\n",
       "      <td>-0.077444</td>\n",
       "      <td>-0.064725</td>\n",
       "      <td>-0.050613</td>\n",
       "      <td>-0.089268</td>\n",
       "      <td>0.008219</td>\n",
       "      <td>0</td>\n",
       "    </tr>\n",
       "    <tr>\n",
       "      <th>2</th>\n",
       "      <td>-0.045039</td>\n",
       "      <td>-0.053999</td>\n",
       "      <td>0.040276</td>\n",
       "      <td>0.094378</td>\n",
       "      <td>0.000464</td>\n",
       "      <td>0.088164</td>\n",
       "      <td>0.068186</td>\n",
       "      <td>0.015193</td>\n",
       "      <td>-0.061532</td>\n",
       "      <td>-0.013105</td>\n",
       "      <td>...</td>\n",
       "      <td>-0.045512</td>\n",
       "      <td>-0.085907</td>\n",
       "      <td>0.119206</td>\n",
       "      <td>-0.010143</td>\n",
       "      <td>-0.032056</td>\n",
       "      <td>-0.062575</td>\n",
       "      <td>0.012103</td>\n",
       "      <td>-0.040987</td>\n",
       "      <td>-0.022289</td>\n",
       "      <td>0</td>\n",
       "    </tr>\n",
       "    <tr>\n",
       "      <th>3</th>\n",
       "      <td>-0.010391</td>\n",
       "      <td>0.326723</td>\n",
       "      <td>-0.389778</td>\n",
       "      <td>-0.178272</td>\n",
       "      <td>-0.521781</td>\n",
       "      <td>-0.452910</td>\n",
       "      <td>0.419209</td>\n",
       "      <td>0.396385</td>\n",
       "      <td>0.018348</td>\n",
       "      <td>0.600720</td>\n",
       "      <td>...</td>\n",
       "      <td>0.151935</td>\n",
       "      <td>0.417459</td>\n",
       "      <td>-0.273338</td>\n",
       "      <td>0.353902</td>\n",
       "      <td>0.319801</td>\n",
       "      <td>0.065350</td>\n",
       "      <td>-0.027499</td>\n",
       "      <td>0.635097</td>\n",
       "      <td>-0.608849</td>\n",
       "      <td>1</td>\n",
       "    </tr>\n",
       "    <tr>\n",
       "      <th>4</th>\n",
       "      <td>0.220337</td>\n",
       "      <td>-0.001183</td>\n",
       "      <td>0.085008</td>\n",
       "      <td>-0.084759</td>\n",
       "      <td>-0.403655</td>\n",
       "      <td>0.146485</td>\n",
       "      <td>-0.084111</td>\n",
       "      <td>0.030820</td>\n",
       "      <td>0.045056</td>\n",
       "      <td>0.142211</td>\n",
       "      <td>...</td>\n",
       "      <td>0.125179</td>\n",
       "      <td>-0.041004</td>\n",
       "      <td>0.026118</td>\n",
       "      <td>0.099644</td>\n",
       "      <td>0.162042</td>\n",
       "      <td>0.227509</td>\n",
       "      <td>0.110666</td>\n",
       "      <td>-0.061084</td>\n",
       "      <td>-0.120227</td>\n",
       "      <td>0</td>\n",
       "    </tr>\n",
       "  </tbody>\n",
       "</table>\n",
       "<p>5 rows × 21 columns</p>\n",
       "</div>"
      ],
      "text/plain": [
       "   Feature_0  Feature_1  Feature_2  Feature_3  Feature_4  Feature_5  \\\n",
       "0   0.024420  -0.062213   0.003231   0.041097  -0.035613   0.050355   \n",
       "1   0.001622  -0.029594   0.018541   0.058957  -0.011700   0.023560   \n",
       "2  -0.045039  -0.053999   0.040276   0.094378   0.000464   0.088164   \n",
       "3  -0.010391   0.326723  -0.389778  -0.178272  -0.521781  -0.452910   \n",
       "4   0.220337  -0.001183   0.085008  -0.084759  -0.403655   0.146485   \n",
       "\n",
       "   Feature_6  Feature_7  Feature_8  Feature_9   ...    Feature_11  Feature_12  \\\n",
       "0   0.032992  -0.041599  -0.046418   0.036952   ...      0.004646   -0.078036   \n",
       "1   0.007825  -0.012051  -0.071286   0.007558   ...      0.022164   -0.072412   \n",
       "2   0.068186   0.015193  -0.061532  -0.013105   ...     -0.045512   -0.085907   \n",
       "3   0.419209   0.396385   0.018348   0.600720   ...      0.151935    0.417459   \n",
       "4  -0.084111   0.030820   0.045056   0.142211   ...      0.125179   -0.041004   \n",
       "\n",
       "   Feature_13  Feature_14  Feature_15  Feature_16  Feature_17  Feature_18  \\\n",
       "0    0.124971   -0.006713   -0.077418   -0.078474   -0.069141   -0.079703   \n",
       "1    0.099467   -0.010646   -0.077444   -0.064725   -0.050613   -0.089268   \n",
       "2    0.119206   -0.010143   -0.032056   -0.062575    0.012103   -0.040987   \n",
       "3   -0.273338    0.353902    0.319801    0.065350   -0.027499    0.635097   \n",
       "4    0.026118    0.099644    0.162042    0.227509    0.110666   -0.061084   \n",
       "\n",
       "   Feature_19  target  \n",
       "0    0.001507       0  \n",
       "1    0.008219       0  \n",
       "2   -0.022289       0  \n",
       "3   -0.608849       1  \n",
       "4   -0.120227       0  \n",
       "\n",
       "[5 rows x 21 columns]"
      ]
     },
     "execution_count": 465,
     "metadata": {},
     "output_type": "execute_result"
    }
   ],
   "source": [
    "predict.head()"
   ]
  },
  {
   "cell_type": "markdown",
   "metadata": {},
   "source": [
    "#### Dividng the datasets\n",
    "We are going to divide the dataset train"
   ]
  },
  {
   "cell_type": "code",
   "execution_count": 513,
   "metadata": {},
   "outputs": [],
   "source": [
    "train = data"
   ]
  },
  {
   "cell_type": "code",
   "execution_count": 514,
   "metadata": {},
   "outputs": [
    {
     "data": {
      "text/plain": [
       "((686, 34), (172, 34))"
      ]
     },
     "execution_count": 514,
     "metadata": {},
     "output_type": "execute_result"
    }
   ],
   "source": [
    "train_df, test_df = train_test_split(train, test_size=0.2)\n",
    "train_df.shape, test_df.shape"
   ]
  },
  {
   "cell_type": "code",
   "execution_count": 515,
   "metadata": {},
   "outputs": [],
   "source": [
    "#Training data\n",
    "x_train = train_df.drop(['Class'], axis = 1).values\n",
    "y_train = train_df[\"Class\"].values\n",
    "\n",
    "#Testing data\n",
    "x_test = test_df.drop(['Class'], axis = 1).values\n",
    "y_test = test_df[\"Class\"].values"
   ]
  },
  {
   "cell_type": "code",
   "execution_count": 516,
   "metadata": {},
   "outputs": [
    {
     "data": {
      "text/plain": [
       "((686, 33), (686,), (172, 33), (172,))"
      ]
     },
     "execution_count": 516,
     "metadata": {},
     "output_type": "execute_result"
    }
   ],
   "source": [
    "x_train.shape, y_train.shape, x_test.shape, y_test.shape"
   ]
  },
  {
   "cell_type": "markdown",
   "metadata": {},
   "source": [
    "#### Creating the autoencoder"
   ]
  },
  {
   "cell_type": "code",
   "execution_count": 517,
   "metadata": {},
   "outputs": [],
   "source": [
    "## input layer \n",
    "input_layer = Input(shape=(x_train.shape[1],))\n",
    "\n",
    "## encoding part\n",
    "encoded = Dense(20, activation='tanh', activity_regularizer=regularizers.l1(10e-5))(input_layer)\n",
    "encoded = Dense(12, activation='relu')(encoded)\n",
    "\n",
    "## decoding part\n",
    "decoded = Dense(12, activation='tanh')(encoded)\n",
    "decoded = Dense(20, activation='tanh')(decoded)\n",
    "\n",
    "## output layer\n",
    "output_layer = Dense(x_train.shape[1], activation='relu')(decoded)"
   ]
  },
  {
   "cell_type": "code",
   "execution_count": 518,
   "metadata": {},
   "outputs": [],
   "source": [
    "autoencoder = Model(input_layer, output_layer)\n",
    "autoencoder.compile(optimizer=\"adadelta\", loss=\"mse\")"
   ]
  },
  {
   "cell_type": "code",
   "execution_count": 519,
   "metadata": {},
   "outputs": [],
   "source": [
    "#Normalizing the data\n",
    "x_train = pd.DataFrame(x_train)#.values)\n",
    "x_train = preprocessing.MinMaxScaler().fit_transform(x_train.values)"
   ]
  },
  {
   "cell_type": "code",
   "execution_count": 520,
   "metadata": {},
   "outputs": [
    {
     "data": {
      "text/plain": [
       "((686, 33), (172, 33))"
      ]
     },
     "execution_count": 520,
     "metadata": {},
     "output_type": "execute_result"
    }
   ],
   "source": [
    "x_train.shape, x_test.shape"
   ]
  },
  {
   "cell_type": "code",
   "execution_count": 521,
   "metadata": {},
   "outputs": [
    {
     "name": "stdout",
     "output_type": "stream",
     "text": [
      "Train on 548 samples, validate on 138 samples\n",
      "Epoch 1/10\n",
      "548/548 [==============================] - 2s 3ms/step - loss: 0.1407 - val_loss: 0.1045\n",
      "Epoch 2/10\n",
      "548/548 [==============================] - 0s 32us/step - loss: 0.1353 - val_loss: 0.1005\n",
      "Epoch 3/10\n",
      "548/548 [==============================] - 0s 23us/step - loss: 0.1310 - val_loss: 0.0971\n",
      "Epoch 4/10\n",
      "548/548 [==============================] - 0s 38us/step - loss: 0.1267 - val_loss: 0.0940\n",
      "Epoch 5/10\n",
      "548/548 [==============================] - 0s 31us/step - loss: 0.1232 - val_loss: 0.0910\n",
      "Epoch 6/10\n",
      "548/548 [==============================] - 0s 30us/step - loss: 0.1185 - val_loss: 0.0881\n",
      "Epoch 7/10\n",
      "548/548 [==============================] - 0s 37us/step - loss: 0.1149 - val_loss: 0.0855\n",
      "Epoch 8/10\n",
      "548/548 [==============================] - 0s 26us/step - loss: 0.1123 - val_loss: 0.0832\n",
      "Epoch 9/10\n",
      "548/548 [==============================] - 0s 30us/step - loss: 0.1086 - val_loss: 0.0810\n",
      "Epoch 10/10\n",
      "548/548 [==============================] - 0s 27us/step - loss: 0.1062 - val_loss: 0.0792\n"
     ]
    },
    {
     "data": {
      "text/plain": [
       "<keras.callbacks.History at 0x1a3c4766d8>"
      ]
     },
     "execution_count": 521,
     "metadata": {},
     "output_type": "execute_result"
    }
   ],
   "source": [
    "autoencoder.fit(x_train, x_train, \n",
    "                batch_size = 256, epochs = 10, \n",
    "                shuffle = True, validation_split = 0.20)"
   ]
  },
  {
   "cell_type": "code",
   "execution_count": 526,
   "metadata": {},
   "outputs": [],
   "source": [
    "features = Sequential()\n",
    "features.add(autoencoder.layers[0])\n",
    "features.add(autoencoder.layers[1])"
   ]
  },
  {
   "cell_type": "code",
   "execution_count": 527,
   "metadata": {},
   "outputs": [],
   "source": [
    "features.compile(optimizer=\"adadelta\", loss=\"mse\")"
   ]
  },
  {
   "cell_type": "code",
   "execution_count": 528,
   "metadata": {},
   "outputs": [],
   "source": [
    "#Reduced features\n",
    "predict = pd.DataFrame(features.predict(x_train))"
   ]
  },
  {
   "cell_type": "code",
   "execution_count": 529,
   "metadata": {},
   "outputs": [
    {
     "data": {
      "text/plain": [
       "(686, 20)"
      ]
     },
     "execution_count": 529,
     "metadata": {},
     "output_type": "execute_result"
    }
   ],
   "source": [
    "predict = predict.add_prefix('Feature_')\n",
    "predict.shape"
   ]
  },
  {
   "cell_type": "code",
   "execution_count": 530,
   "metadata": {},
   "outputs": [],
   "source": [
    "predict['target'] = y_train"
   ]
  },
  {
   "cell_type": "code",
   "execution_count": 531,
   "metadata": {},
   "outputs": [
    {
     "data": {
      "text/html": [
       "<div>\n",
       "<style scoped>\n",
       "    .dataframe tbody tr th:only-of-type {\n",
       "        vertical-align: middle;\n",
       "    }\n",
       "\n",
       "    .dataframe tbody tr th {\n",
       "        vertical-align: top;\n",
       "    }\n",
       "\n",
       "    .dataframe thead th {\n",
       "        text-align: right;\n",
       "    }\n",
       "</style>\n",
       "<table border=\"1\" class=\"dataframe\">\n",
       "  <thead>\n",
       "    <tr style=\"text-align: right;\">\n",
       "      <th></th>\n",
       "      <th>Feature_0</th>\n",
       "      <th>Feature_1</th>\n",
       "      <th>Feature_2</th>\n",
       "      <th>Feature_3</th>\n",
       "      <th>Feature_4</th>\n",
       "      <th>Feature_5</th>\n",
       "      <th>Feature_6</th>\n",
       "      <th>Feature_7</th>\n",
       "      <th>Feature_8</th>\n",
       "      <th>Feature_9</th>\n",
       "      <th>...</th>\n",
       "      <th>Feature_11</th>\n",
       "      <th>Feature_12</th>\n",
       "      <th>Feature_13</th>\n",
       "      <th>Feature_14</th>\n",
       "      <th>Feature_15</th>\n",
       "      <th>Feature_16</th>\n",
       "      <th>Feature_17</th>\n",
       "      <th>Feature_18</th>\n",
       "      <th>Feature_19</th>\n",
       "      <th>target</th>\n",
       "    </tr>\n",
       "  </thead>\n",
       "  <tbody>\n",
       "    <tr>\n",
       "      <th>0</th>\n",
       "      <td>0.131263</td>\n",
       "      <td>0.039685</td>\n",
       "      <td>-0.107285</td>\n",
       "      <td>0.082087</td>\n",
       "      <td>-0.132453</td>\n",
       "      <td>0.081368</td>\n",
       "      <td>-0.152297</td>\n",
       "      <td>0.023913</td>\n",
       "      <td>0.235901</td>\n",
       "      <td>0.235200</td>\n",
       "      <td>...</td>\n",
       "      <td>-0.150859</td>\n",
       "      <td>-0.315176</td>\n",
       "      <td>-0.000239</td>\n",
       "      <td>-0.047673</td>\n",
       "      <td>0.122855</td>\n",
       "      <td>0.027519</td>\n",
       "      <td>-0.101326</td>\n",
       "      <td>-0.220932</td>\n",
       "      <td>-0.039588</td>\n",
       "      <td>0</td>\n",
       "    </tr>\n",
       "    <tr>\n",
       "      <th>1</th>\n",
       "      <td>-0.024585</td>\n",
       "      <td>0.000201</td>\n",
       "      <td>-0.014611</td>\n",
       "      <td>0.026012</td>\n",
       "      <td>0.010083</td>\n",
       "      <td>0.083077</td>\n",
       "      <td>0.142844</td>\n",
       "      <td>0.172890</td>\n",
       "      <td>0.084916</td>\n",
       "      <td>-0.197009</td>\n",
       "      <td>...</td>\n",
       "      <td>-0.051536</td>\n",
       "      <td>-0.189188</td>\n",
       "      <td>0.010076</td>\n",
       "      <td>0.097498</td>\n",
       "      <td>0.090151</td>\n",
       "      <td>-0.028381</td>\n",
       "      <td>0.052840</td>\n",
       "      <td>0.127373</td>\n",
       "      <td>-0.152749</td>\n",
       "      <td>0</td>\n",
       "    </tr>\n",
       "    <tr>\n",
       "      <th>2</th>\n",
       "      <td>0.122991</td>\n",
       "      <td>0.041337</td>\n",
       "      <td>-0.134012</td>\n",
       "      <td>0.081025</td>\n",
       "      <td>-0.157479</td>\n",
       "      <td>0.058650</td>\n",
       "      <td>-0.153085</td>\n",
       "      <td>0.029276</td>\n",
       "      <td>0.246412</td>\n",
       "      <td>0.226892</td>\n",
       "      <td>...</td>\n",
       "      <td>-0.165760</td>\n",
       "      <td>-0.294923</td>\n",
       "      <td>-0.002917</td>\n",
       "      <td>-0.053403</td>\n",
       "      <td>0.118001</td>\n",
       "      <td>0.037710</td>\n",
       "      <td>-0.086883</td>\n",
       "      <td>-0.217705</td>\n",
       "      <td>-0.035166</td>\n",
       "      <td>0</td>\n",
       "    </tr>\n",
       "    <tr>\n",
       "      <th>3</th>\n",
       "      <td>0.131634</td>\n",
       "      <td>0.034280</td>\n",
       "      <td>-0.096798</td>\n",
       "      <td>0.066022</td>\n",
       "      <td>-0.121319</td>\n",
       "      <td>0.094587</td>\n",
       "      <td>-0.135833</td>\n",
       "      <td>0.056702</td>\n",
       "      <td>0.277080</td>\n",
       "      <td>0.217024</td>\n",
       "      <td>...</td>\n",
       "      <td>-0.150105</td>\n",
       "      <td>-0.341409</td>\n",
       "      <td>-0.017421</td>\n",
       "      <td>-0.081072</td>\n",
       "      <td>0.127393</td>\n",
       "      <td>0.012054</td>\n",
       "      <td>-0.123065</td>\n",
       "      <td>-0.198727</td>\n",
       "      <td>-0.052437</td>\n",
       "      <td>0</td>\n",
       "    </tr>\n",
       "    <tr>\n",
       "      <th>4</th>\n",
       "      <td>0.141016</td>\n",
       "      <td>0.040983</td>\n",
       "      <td>-0.140348</td>\n",
       "      <td>0.158293</td>\n",
       "      <td>-0.026146</td>\n",
       "      <td>0.075652</td>\n",
       "      <td>-0.145265</td>\n",
       "      <td>0.136134</td>\n",
       "      <td>0.231755</td>\n",
       "      <td>0.240761</td>\n",
       "      <td>...</td>\n",
       "      <td>-0.214037</td>\n",
       "      <td>-0.340062</td>\n",
       "      <td>0.045954</td>\n",
       "      <td>-0.019656</td>\n",
       "      <td>0.208258</td>\n",
       "      <td>-0.021790</td>\n",
       "      <td>-0.060165</td>\n",
       "      <td>-0.247589</td>\n",
       "      <td>-0.144881</td>\n",
       "      <td>0</td>\n",
       "    </tr>\n",
       "  </tbody>\n",
       "</table>\n",
       "<p>5 rows × 21 columns</p>\n",
       "</div>"
      ],
      "text/plain": [
       "   Feature_0  Feature_1  Feature_2  Feature_3  Feature_4  Feature_5  \\\n",
       "0   0.131263   0.039685  -0.107285   0.082087  -0.132453   0.081368   \n",
       "1  -0.024585   0.000201  -0.014611   0.026012   0.010083   0.083077   \n",
       "2   0.122991   0.041337  -0.134012   0.081025  -0.157479   0.058650   \n",
       "3   0.131634   0.034280  -0.096798   0.066022  -0.121319   0.094587   \n",
       "4   0.141016   0.040983  -0.140348   0.158293  -0.026146   0.075652   \n",
       "\n",
       "   Feature_6  Feature_7  Feature_8  Feature_9   ...    Feature_11  Feature_12  \\\n",
       "0  -0.152297   0.023913   0.235901   0.235200   ...     -0.150859   -0.315176   \n",
       "1   0.142844   0.172890   0.084916  -0.197009   ...     -0.051536   -0.189188   \n",
       "2  -0.153085   0.029276   0.246412   0.226892   ...     -0.165760   -0.294923   \n",
       "3  -0.135833   0.056702   0.277080   0.217024   ...     -0.150105   -0.341409   \n",
       "4  -0.145265   0.136134   0.231755   0.240761   ...     -0.214037   -0.340062   \n",
       "\n",
       "   Feature_13  Feature_14  Feature_15  Feature_16  Feature_17  Feature_18  \\\n",
       "0   -0.000239   -0.047673    0.122855    0.027519   -0.101326   -0.220932   \n",
       "1    0.010076    0.097498    0.090151   -0.028381    0.052840    0.127373   \n",
       "2   -0.002917   -0.053403    0.118001    0.037710   -0.086883   -0.217705   \n",
       "3   -0.017421   -0.081072    0.127393    0.012054   -0.123065   -0.198727   \n",
       "4    0.045954   -0.019656    0.208258   -0.021790   -0.060165   -0.247589   \n",
       "\n",
       "   Feature_19  target  \n",
       "0   -0.039588       0  \n",
       "1   -0.152749       0  \n",
       "2   -0.035166       0  \n",
       "3   -0.052437       0  \n",
       "4   -0.144881       0  \n",
       "\n",
       "[5 rows x 21 columns]"
      ]
     },
     "execution_count": 531,
     "metadata": {},
     "output_type": "execute_result"
    }
   ],
   "source": [
    "predict.head()"
   ]
  },
  {
   "cell_type": "code",
   "execution_count": 532,
   "metadata": {},
   "outputs": [],
   "source": [
    "predict_test = pd.DataFrame(features.predict(x_test))"
   ]
  },
  {
   "cell_type": "code",
   "execution_count": 533,
   "metadata": {},
   "outputs": [
    {
     "data": {
      "text/plain": [
       "(172, 20)"
      ]
     },
     "execution_count": 533,
     "metadata": {},
     "output_type": "execute_result"
    }
   ],
   "source": [
    "predict_test = predict_test.add_prefix('Feature_')\n",
    "predict_test.shape"
   ]
  },
  {
   "cell_type": "code",
   "execution_count": 534,
   "metadata": {},
   "outputs": [],
   "source": [
    "predict_test['target'] = y_test"
   ]
  },
  {
   "cell_type": "code",
   "execution_count": 535,
   "metadata": {},
   "outputs": [
    {
     "data": {
      "text/html": [
       "<div>\n",
       "<style scoped>\n",
       "    .dataframe tbody tr th:only-of-type {\n",
       "        vertical-align: middle;\n",
       "    }\n",
       "\n",
       "    .dataframe tbody tr th {\n",
       "        vertical-align: top;\n",
       "    }\n",
       "\n",
       "    .dataframe thead th {\n",
       "        text-align: right;\n",
       "    }\n",
       "</style>\n",
       "<table border=\"1\" class=\"dataframe\">\n",
       "  <thead>\n",
       "    <tr style=\"text-align: right;\">\n",
       "      <th></th>\n",
       "      <th>Feature_0</th>\n",
       "      <th>Feature_1</th>\n",
       "      <th>Feature_2</th>\n",
       "      <th>Feature_3</th>\n",
       "      <th>Feature_4</th>\n",
       "      <th>Feature_5</th>\n",
       "      <th>Feature_6</th>\n",
       "      <th>Feature_7</th>\n",
       "      <th>Feature_8</th>\n",
       "      <th>Feature_9</th>\n",
       "      <th>...</th>\n",
       "      <th>Feature_11</th>\n",
       "      <th>Feature_12</th>\n",
       "      <th>Feature_13</th>\n",
       "      <th>Feature_14</th>\n",
       "      <th>Feature_15</th>\n",
       "      <th>Feature_16</th>\n",
       "      <th>Feature_17</th>\n",
       "      <th>Feature_18</th>\n",
       "      <th>Feature_19</th>\n",
       "      <th>target</th>\n",
       "    </tr>\n",
       "  </thead>\n",
       "  <tbody>\n",
       "    <tr>\n",
       "      <th>0</th>\n",
       "      <td>1.000000</td>\n",
       "      <td>0.989849</td>\n",
       "      <td>1.000000</td>\n",
       "      <td>0.877224</td>\n",
       "      <td>1.0</td>\n",
       "      <td>0.999898</td>\n",
       "      <td>-0.999000</td>\n",
       "      <td>0.998594</td>\n",
       "      <td>-0.998955</td>\n",
       "      <td>0.963985</td>\n",
       "      <td>...</td>\n",
       "      <td>1.000000</td>\n",
       "      <td>-1.0</td>\n",
       "      <td>0.999652</td>\n",
       "      <td>0.922828</td>\n",
       "      <td>1.000000</td>\n",
       "      <td>-1.000000</td>\n",
       "      <td>-0.999946</td>\n",
       "      <td>-0.999763</td>\n",
       "      <td>-1.000000</td>\n",
       "      <td>0</td>\n",
       "    </tr>\n",
       "    <tr>\n",
       "      <th>1</th>\n",
       "      <td>0.999996</td>\n",
       "      <td>0.917468</td>\n",
       "      <td>1.000000</td>\n",
       "      <td>0.768864</td>\n",
       "      <td>1.0</td>\n",
       "      <td>0.999981</td>\n",
       "      <td>-0.959342</td>\n",
       "      <td>0.996397</td>\n",
       "      <td>-0.919528</td>\n",
       "      <td>0.784378</td>\n",
       "      <td>...</td>\n",
       "      <td>0.999973</td>\n",
       "      <td>-1.0</td>\n",
       "      <td>0.990824</td>\n",
       "      <td>0.437860</td>\n",
       "      <td>0.999997</td>\n",
       "      <td>-0.999999</td>\n",
       "      <td>-0.999601</td>\n",
       "      <td>-0.991796</td>\n",
       "      <td>-0.999999</td>\n",
       "      <td>0</td>\n",
       "    </tr>\n",
       "    <tr>\n",
       "      <th>2</th>\n",
       "      <td>0.999998</td>\n",
       "      <td>0.959987</td>\n",
       "      <td>1.000000</td>\n",
       "      <td>0.967425</td>\n",
       "      <td>1.0</td>\n",
       "      <td>0.999928</td>\n",
       "      <td>-0.994661</td>\n",
       "      <td>0.990180</td>\n",
       "      <td>-0.997791</td>\n",
       "      <td>0.973127</td>\n",
       "      <td>...</td>\n",
       "      <td>0.999971</td>\n",
       "      <td>-1.0</td>\n",
       "      <td>0.998852</td>\n",
       "      <td>0.907746</td>\n",
       "      <td>0.999999</td>\n",
       "      <td>-1.000000</td>\n",
       "      <td>-0.997795</td>\n",
       "      <td>-0.999530</td>\n",
       "      <td>-0.999999</td>\n",
       "      <td>0</td>\n",
       "    </tr>\n",
       "    <tr>\n",
       "      <th>3</th>\n",
       "      <td>0.999952</td>\n",
       "      <td>0.911439</td>\n",
       "      <td>0.999996</td>\n",
       "      <td>0.633550</td>\n",
       "      <td>1.0</td>\n",
       "      <td>0.999397</td>\n",
       "      <td>-0.942982</td>\n",
       "      <td>0.983983</td>\n",
       "      <td>-0.818218</td>\n",
       "      <td>0.329227</td>\n",
       "      <td>...</td>\n",
       "      <td>0.999674</td>\n",
       "      <td>-1.0</td>\n",
       "      <td>0.979176</td>\n",
       "      <td>0.579525</td>\n",
       "      <td>0.999956</td>\n",
       "      <td>-0.999968</td>\n",
       "      <td>-0.994103</td>\n",
       "      <td>-0.976208</td>\n",
       "      <td>-0.999978</td>\n",
       "      <td>0</td>\n",
       "    </tr>\n",
       "    <tr>\n",
       "      <th>4</th>\n",
       "      <td>0.999949</td>\n",
       "      <td>0.805101</td>\n",
       "      <td>1.000000</td>\n",
       "      <td>0.759597</td>\n",
       "      <td>1.0</td>\n",
       "      <td>0.999948</td>\n",
       "      <td>-0.886212</td>\n",
       "      <td>0.986367</td>\n",
       "      <td>-0.908277</td>\n",
       "      <td>0.828758</td>\n",
       "      <td>...</td>\n",
       "      <td>0.999802</td>\n",
       "      <td>-1.0</td>\n",
       "      <td>0.976221</td>\n",
       "      <td>0.534998</td>\n",
       "      <td>0.999962</td>\n",
       "      <td>-0.999989</td>\n",
       "      <td>-0.998858</td>\n",
       "      <td>-0.979165</td>\n",
       "      <td>-0.999982</td>\n",
       "      <td>0</td>\n",
       "    </tr>\n",
       "  </tbody>\n",
       "</table>\n",
       "<p>5 rows × 21 columns</p>\n",
       "</div>"
      ],
      "text/plain": [
       "   Feature_0  Feature_1  Feature_2  Feature_3  Feature_4  Feature_5  \\\n",
       "0   1.000000   0.989849   1.000000   0.877224        1.0   0.999898   \n",
       "1   0.999996   0.917468   1.000000   0.768864        1.0   0.999981   \n",
       "2   0.999998   0.959987   1.000000   0.967425        1.0   0.999928   \n",
       "3   0.999952   0.911439   0.999996   0.633550        1.0   0.999397   \n",
       "4   0.999949   0.805101   1.000000   0.759597        1.0   0.999948   \n",
       "\n",
       "   Feature_6  Feature_7  Feature_8  Feature_9   ...    Feature_11  Feature_12  \\\n",
       "0  -0.999000   0.998594  -0.998955   0.963985   ...      1.000000        -1.0   \n",
       "1  -0.959342   0.996397  -0.919528   0.784378   ...      0.999973        -1.0   \n",
       "2  -0.994661   0.990180  -0.997791   0.973127   ...      0.999971        -1.0   \n",
       "3  -0.942982   0.983983  -0.818218   0.329227   ...      0.999674        -1.0   \n",
       "4  -0.886212   0.986367  -0.908277   0.828758   ...      0.999802        -1.0   \n",
       "\n",
       "   Feature_13  Feature_14  Feature_15  Feature_16  Feature_17  Feature_18  \\\n",
       "0    0.999652    0.922828    1.000000   -1.000000   -0.999946   -0.999763   \n",
       "1    0.990824    0.437860    0.999997   -0.999999   -0.999601   -0.991796   \n",
       "2    0.998852    0.907746    0.999999   -1.000000   -0.997795   -0.999530   \n",
       "3    0.979176    0.579525    0.999956   -0.999968   -0.994103   -0.976208   \n",
       "4    0.976221    0.534998    0.999962   -0.999989   -0.998858   -0.979165   \n",
       "\n",
       "   Feature_19  target  \n",
       "0   -1.000000       0  \n",
       "1   -0.999999       0  \n",
       "2   -0.999999       0  \n",
       "3   -0.999978       0  \n",
       "4   -0.999982       0  \n",
       "\n",
       "[5 rows x 21 columns]"
      ]
     },
     "execution_count": 535,
     "metadata": {},
     "output_type": "execute_result"
    }
   ],
   "source": [
    "predict_test.head()"
   ]
  },
  {
   "cell_type": "markdown",
   "metadata": {},
   "source": [
    "### Linear classifier\n",
    "In this case I'm going to use SVM as discussed in the paper"
   ]
  },
  {
   "cell_type": "code",
   "execution_count": 536,
   "metadata": {},
   "outputs": [],
   "source": [
    "train = predict\n",
    "test = predict_test"
   ]
  },
  {
   "cell_type": "code",
   "execution_count": 537,
   "metadata": {},
   "outputs": [
    {
     "data": {
      "text/plain": [
       "((514, 20), (172, 20), (514,), (172,))"
      ]
     },
     "execution_count": 537,
     "metadata": {},
     "output_type": "execute_result"
    }
   ],
   "source": [
    "X = train.drop(['target'], axis = 1).values\n",
    "y = train['target']\n",
    "\n",
    "X_train, X_test, y_train, y_test = train_test_split(X, y, test_size = 0.25, random_state = 0)\n",
    "X_train.shape, X_test.shape, y_train.shape, y_test.shape"
   ]
  },
  {
   "cell_type": "code",
   "execution_count": 538,
   "metadata": {},
   "outputs": [
    {
     "data": {
      "text/plain": [
       "SVC(C=1.0, cache_size=200, class_weight=None, coef0=0.0,\n",
       "  decision_function_shape='ovr', degree=3, gamma='auto_deprecated',\n",
       "  kernel='linear', max_iter=-1, probability=False, random_state=None,\n",
       "  shrinking=True, tol=0.001, verbose=False)"
      ]
     },
     "execution_count": 538,
     "metadata": {},
     "output_type": "execute_result"
    }
   ],
   "source": [
    "from sklearn import svm\n",
    "classifier = svm.SVC(kernel='linear')\n",
    "classifier.fit(X_train,y_train)"
   ]
  },
  {
   "cell_type": "code",
   "execution_count": 539,
   "metadata": {},
   "outputs": [],
   "source": [
    "y_pred = classifier.predict(X_test)"
   ]
  },
  {
   "cell_type": "code",
   "execution_count": 540,
   "metadata": {},
   "outputs": [],
   "source": [
    "from sklearn.metrics import confusion_matrix\n",
    "cm = confusion_matrix(y_test, y_pred)"
   ]
  },
  {
   "cell_type": "code",
   "execution_count": 541,
   "metadata": {},
   "outputs": [
    {
     "data": {
      "text/plain": [
       "array([[166,   1],\n",
       "       [  2,   3]])"
      ]
     },
     "execution_count": 541,
     "metadata": {},
     "output_type": "execute_result"
    }
   ],
   "source": [
    "cm"
   ]
  },
  {
   "cell_type": "code",
   "execution_count": 542,
   "metadata": {},
   "outputs": [
    {
     "data": {
      "image/png": "[encoded data removed]",
      "text/plain": [
       "<Figure size 432x288 with 1 Axes>"
      ]
     },
     "metadata": {
      "needs_background": "light"
     },
     "output_type": "display_data"
    }
   ],
   "source": [
    "#Confusion Matrix Graph\n",
    "from mlxtend.plotting import plot_confusion_matrix\n",
    "fig, ax = plot_confusion_matrix(conf_mat=cm)\n",
    "plt.show()"
   ]
  },
  {
   "cell_type": "code",
   "execution_count": 543,
   "metadata": {},
   "outputs": [],
   "source": [
    "#Making the Confusion Matrix\n",
    "# confusion_matrix is a function\n",
    "from sklearn.metrics import confusion_matrix\n",
    "from sklearn.metrics.classification import cohen_kappa_score\n",
    "from sklearn.metrics import precision_recall_fscore_support\n",
    "cm = confusion_matrix(y_test,y_pred)\n",
    "k_stat = cohen_kappa_score(y_test,y_pred)\n",
    "score = precision_recall_fscore_support(y_test,y_pred)"
   ]
  },
  {
   "cell_type": "code",
   "execution_count": 544,
   "metadata": {},
   "outputs": [
    {
     "data": {
      "text/plain": [
       "(array([0.98809524, 0.75      ]),\n",
       " array([0.99401198, 0.6       ]),\n",
       " array([0.99104478, 0.66666667]),\n",
       " array([167,   5]))"
      ]
     },
     "execution_count": 544,
     "metadata": {},
     "output_type": "execute_result"
    }
   ],
   "source": [
    "score"
   ]
  },
  {
   "cell_type": "code",
   "execution_count": 545,
   "metadata": {},
   "outputs": [],
   "source": [
    "#Applying k-fold crossvalidation\n",
    "from sklearn.model_selection import cross_val_score, cross_validate\n",
    "accuracies = cross_val_score(estimator = classifier,X = X_train, y = y_train, cv = 10)\n",
    "stats = cross_validate(estimator = classifier,X = X_train, y = y_train, cv = 10)\n",
    "mean_ac= accuracies.mean()\n",
    "std_ac= accuracies.std()\n"
   ]
  },
  {
   "cell_type": "code",
   "execution_count": 546,
   "metadata": {},
   "outputs": [
    {
     "data": {
      "text/plain": [
       "array([1.        , 1.        , 0.98076923, 1.        , 1.        ,\n",
       "       1.        , 1.        , 1.        , 1.        , 1.        ])"
      ]
     },
     "execution_count": 546,
     "metadata": {},
     "output_type": "execute_result"
    }
   ],
   "source": [
    "accuracies"
   ]
  },
  {
   "cell_type": "code",
   "execution_count": 547,
   "metadata": {},
   "outputs": [
    {
     "data": {
      "text/plain": [
       "{'fit_time': array([0.00140786, 0.00164509, 0.00155592, 0.00181103, 0.00158286,\n",
       "        0.00183892, 0.00148416, 0.00172806, 0.00219893, 0.00172615]),\n",
       " 'score_time': array([0.00050306, 0.0005908 , 0.000489  , 0.00069404, 0.00067997,\n",
       "        0.00047088, 0.00049162, 0.000736  , 0.00040913, 0.00040007]),\n",
       " 'test_score': array([1.        , 1.        , 0.98076923, 1.        , 1.        ,\n",
       "        1.        , 1.        , 1.        , 1.        , 1.        ]),\n",
       " 'train_score': array([1., 1., 1., 1., 1., 1., 1., 1., 1., 1.])}"
      ]
     },
     "execution_count": 547,
     "metadata": {},
     "output_type": "execute_result"
    }
   ],
   "source": [
    "stats"
   ]
  },
  {
   "cell_type": "code",
   "execution_count": 548,
   "metadata": {},
   "outputs": [
    {
     "data": {
      "text/plain": [
       "0.998076923076923"
      ]
     },
     "execution_count": 548,
     "metadata": {},
     "output_type": "execute_result"
    }
   ],
   "source": [
    "mean_ac"
   ]
  },
  {
   "cell_type": "code",
   "execution_count": null,
   "metadata": {},
   "outputs": [],
   "source": []
  }
 ],
 "metadata": {
  "kernelspec": {
   "display_name": "Python 3",
   "language": "python",
   "name": "python3"
  },
  "language_info": {
   "codemirror_mode": {
    "name": "ipython",
    "version": 3
   },
   "file_extension": ".py",
   "mimetype": "text/x-python",
   "name": "python",
   "nbconvert_exporter": "python",
   "pygments_lexer": "ipython3",
   "version": "3.7.1"
  }
 },
 "nbformat": 4,
 "nbformat_minor": 2
}
